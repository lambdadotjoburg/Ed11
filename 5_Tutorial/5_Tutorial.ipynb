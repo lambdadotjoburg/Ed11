{
 "cells": [
  {
   "cell_type": "markdown",
   "id": "8e6b228c",
   "metadata": {},
   "source": [
    "## Multivariable Functions"
   ]
  },
  {
   "cell_type": "markdown",
   "id": "857d0d1f",
   "metadata": {},
   "source": [
    "### Contour Plots"
   ]
  },
  {
   "cell_type": "code",
   "execution_count": null,
   "id": "ddc72ddd",
   "metadata": {},
   "outputs": [],
   "source": [
    "%reset"
   ]
  },
  {
   "cell_type": "code",
   "execution_count": null,
   "id": "ee708ffc",
   "metadata": {},
   "outputs": [],
   "source": [
    "import matplotlib.pyplot as plt\n",
    "import numpy as np"
   ]
  },
  {
   "cell_type": "code",
   "execution_count": null,
   "id": "a40e8982",
   "metadata": {},
   "outputs": [],
   "source": [
    "plt.rcParams['figure.figsize'] = 6,4"
   ]
  },
  {
   "cell_type": "code",
   "execution_count": null,
   "id": "99329fda",
   "metadata": {},
   "outputs": [],
   "source": [
    "# Define the dimensions of the space for our contour plot\n",
    "dim1 = np.linspace(-2,2,100)\n",
    "dim2 = np.linspace(-4,4,100)\n",
    "\n",
    "# Define a two dimensional space on which to plot our contour lines\n",
    "x,y = np.meshgrid(dim1, dim2)\n",
    "\n",
    "x,y"
   ]
  },
  {
   "cell_type": "code",
   "execution_count": null,
   "id": "dd50939b",
   "metadata": {},
   "outputs": [],
   "source": [
    "# Define the multivariable function for which to draw a contour plot\n",
    "z = x**2+x*y\n",
    "\n",
    "plt.contour(x,y,z, levels=30)\n",
    "plt.show()"
   ]
  },
  {
   "cell_type": "code",
   "execution_count": null,
   "id": "af1fc24f",
   "metadata": {},
   "outputs": [],
   "source": [
    "# Define the dimensions of the space for our contour plot\n",
    "dim1 = np.linspace(-2,2,100)\n",
    "dim2 = np.linspace(-4,1,100)\n",
    "\n",
    "# Define a two dimensional space on which to plot our contour lines\n",
    "x,y = np.meshgrid(dim1, dim2)\n",
    "\n",
    "# Define the multivariable function for which to draw a contour plot\n",
    "z = x**2+x*y\n",
    "\n",
    "plt.contour(x,y,z, levels=100)\n",
    "plt.show()"
   ]
  },
  {
   "cell_type": "code",
   "execution_count": null,
   "id": "0558ba2e",
   "metadata": {},
   "outputs": [],
   "source": [
    "# Define the dimensions of the space for our contour plot\n",
    "dim = np.linspace(-1,1,100)\n",
    "\n",
    "# Define a two dimensional space on which to plot our contour lines\n",
    "x,y = np.meshgrid(dim, dim)\n",
    "\n",
    "# Define the multivariable function for which to draw a contour plot\n",
    "z = x**2+x*y+y**2\n",
    "\n",
    "plt.contour(x,y,z, levels=100)\n",
    "plt.show()"
   ]
  },
  {
   "cell_type": "code",
   "execution_count": null,
   "id": "4535807c",
   "metadata": {},
   "outputs": [],
   "source": [
    "# Define the dimensions of the space for our contour plot\n",
    "dim = np.linspace(-1,1,100)\n",
    "\n",
    "# Define a two dimensional space on which to plot our contour lines\n",
    "x,y = np.meshgrid(dim, dim)\n",
    "\n",
    "# Define the multivariable function for which to draw a contour plot\n",
    "z = x**2+x*y+y**2\n",
    "\n",
    "plt.contour(x,y,z, levels=20)\n",
    "plt.show()"
   ]
  },
  {
   "cell_type": "code",
   "execution_count": null,
   "id": "76aa788f",
   "metadata": {},
   "outputs": [],
   "source": [
    "# Define the dimensions of the space for our contour plot\n",
    "dim = np.linspace(-1,1,100)\n",
    "\n",
    "# Define a two dimensional space on which to plot our contour lines\n",
    "x,y = np.meshgrid(dim, dim)\n",
    "\n",
    "# Define the multivariable function for which to draw a contour plot\n",
    "z = x**2+x*y+y**2\n",
    "\n",
    "cnt = plt.contour(z, levels=10)\n",
    "\n",
    "plt.clabel(cnt);\n",
    "\n",
    "plt.show()"
   ]
  },
  {
   "cell_type": "code",
   "execution_count": null,
   "id": "b3bd32b1",
   "metadata": {},
   "outputs": [],
   "source": [
    "# Define the dimensions of the space for our contour plot\n",
    "dim = np.linspace(-1,1,100)\n",
    "\n",
    "# Define a two dimensional space on which to plot our contour lines\n",
    "x,y = np.meshgrid(dim, dim)\n",
    "\n",
    "# Define the multivariable function for which to draw a contour plot\n",
    "z = x**2+x*y+y**2\n",
    "\n",
    "cnt = plt.contour(x,y,z, levels=20)\n",
    "\n",
    "plt.clabel(cnt);\n",
    "\n",
    "plt.show()"
   ]
  },
  {
   "cell_type": "code",
   "execution_count": null,
   "id": "8bb8f963",
   "metadata": {},
   "outputs": [],
   "source": [
    "dim = np.linspace(-1,1,100)\n",
    "\n",
    "x, y = np.meshgrid(dim, dim)\n",
    "\n",
    "z = x**2/7 + y**2/5 - 1\n",
    "\n",
    "cnt = plt.contour(x, y, z, levels=10)\n",
    "\n",
    "plt.clabel(cnt);\n",
    "\n",
    "plt.show()"
   ]
  },
  {
   "cell_type": "code",
   "execution_count": null,
   "id": "40703640",
   "metadata": {},
   "outputs": [],
   "source": [
    "dim = np.linspace(-1,1,100)\n",
    "\n",
    "x, y = np.meshgrid(dim, dim)\n",
    "\n",
    "z = x**2/7 + y**2/5 - 1\n",
    "\n",
    "cnt = plt.contour(x, y, z, levels=10)\n",
    "\n",
    "plt.clabel(cnt);\n",
    "\n",
    "plt.show()"
   ]
  },
  {
   "cell_type": "code",
   "execution_count": null,
   "id": "d0c85724",
   "metadata": {},
   "outputs": [],
   "source": [
    "fig = plt.figure(figsize=(6,5))\n",
    "\n",
    "dim = np.linspace(-1,1,100)\n",
    "\n",
    "x, y = np.meshgrid(dim, dim)\n",
    "\n",
    "z = x**2/7 + y**2/5 - 1\n",
    "\n",
    "cnt = plt.contour(x, y, z, levels=10)\n",
    "\n",
    "plt.colorbar()\n",
    "\n",
    "plt.show()"
   ]
  },
  {
   "cell_type": "code",
   "execution_count": null,
   "id": "c51f460b",
   "metadata": {},
   "outputs": [],
   "source": [
    "fig = plt.figure(figsize=(6,5))\n",
    "\n",
    "dim = np.linspace(-1,1,100)\n",
    "\n",
    "x, y = np.meshgrid(dim, dim)\n",
    "\n",
    "z = x**2/7 + y**2/5 - 1\n",
    "\n",
    "cnt = plt.contour(x, y, z, levels=10)\n",
    "\n",
    "plt.clabel(cnt);\n",
    "\n",
    "plt.colorbar()\n",
    "\n",
    "plt.show()"
   ]
  },
  {
   "cell_type": "code",
   "execution_count": null,
   "id": "a17b4254",
   "metadata": {},
   "outputs": [],
   "source": [
    "dim = np.linspace(-1,1,100)\n",
    "\n",
    "x,y = np.meshgrid(dim, dim)\n",
    "\n",
    "z = x**2+x*y"
   ]
  },
  {
   "cell_type": "code",
   "execution_count": null,
   "id": "73972ed4",
   "metadata": {},
   "outputs": [],
   "source": [
    "cnt = plt.contour(x,y,z, levels=10)\n",
    "\n",
    "plt.clabel(cnt, fontsize=10)\n",
    "\n",
    "plt.show()"
   ]
  },
  {
   "cell_type": "code",
   "execution_count": null,
   "id": "d065944c",
   "metadata": {},
   "outputs": [],
   "source": [
    "interval = np.linspace(-1,1,100)\n",
    "\n",
    "x,y = np.meshgrid(interval,interval)\n",
    "\n",
    "z = x**2+x*y"
   ]
  },
  {
   "cell_type": "code",
   "execution_count": null,
   "id": "07221a0a",
   "metadata": {},
   "outputs": [],
   "source": [
    "plt.rcParams['axes.grid'] = False\n",
    "\n",
    "plt.contourf(x,y,z, levels=30)\n",
    "\n",
    "plt.show()"
   ]
  },
  {
   "cell_type": "code",
   "execution_count": null,
   "id": "e3dfbb88",
   "metadata": {},
   "outputs": [],
   "source": [
    "plt.contourf(x,y,z, levels=30, vmax=0.789, vmin=0.123)\n",
    "\n",
    "plt.colorbar(label='color bar')\n",
    "\n",
    "plt.show()"
   ]
  },
  {
   "cell_type": "code",
   "execution_count": null,
   "id": "14bb6213",
   "metadata": {},
   "outputs": [],
   "source": [
    "plt.contourf(x,y,z, levels=30, vmax=0.789, vmin=0.123)\n",
    "\n",
    "plt.colorbar(label='color bar')\n",
    "\n",
    "plt.show()"
   ]
  },
  {
   "cell_type": "code",
   "execution_count": null,
   "id": "d29f6a11",
   "metadata": {},
   "outputs": [],
   "source": [
    "cnt = plt.contourf(x,y,z, levels=10)\n",
    "\n",
    "plt.clabel(cnt, fontsize=10, colors='white')\n",
    "\n",
    "plt.show()"
   ]
  },
  {
   "cell_type": "code",
   "execution_count": null,
   "id": "3a0d175d",
   "metadata": {},
   "outputs": [],
   "source": [
    "plt.figure(figsize=(10,5))\n",
    "\n",
    "plt.contourf(x,y,z, levels=30, cmap='plasma')\n",
    "\n",
    "plt.colorbar(label='color bar')\n",
    "\n",
    "plt.show()"
   ]
  },
  {
   "cell_type": "code",
   "execution_count": null,
   "id": "9f4ee51b",
   "metadata": {},
   "outputs": [],
   "source": [
    "plt.rcParams['axes.grid'] = True"
   ]
  },
  {
   "cell_type": "code",
   "execution_count": null,
   "id": "e34f343e",
   "metadata": {},
   "outputs": [],
   "source": [
    "dim = np.linspace(-1,1,100)\n",
    "\n",
    "x,y = np.meshgrid(dim, dim)\n",
    "\n",
    "z = x**2+x*y"
   ]
  },
  {
   "cell_type": "code",
   "execution_count": null,
   "id": "4a543fef",
   "metadata": {},
   "outputs": [],
   "source": [
    "figure, axes = plt.subplots(2,2, figsize=(15,10))\n",
    "\n",
    "ax00 = axes[0][0]\n",
    "ax00.contourf(x,y,z, levels=10)\n",
    "\n",
    "ax01 = axes[0][1]\n",
    "ax01.contourf(x,y,z, levels=10, cmap='plasma')\n",
    "\n",
    "ax10 = axes[1][0]\n",
    "ax10.contour(x,y,z, levels=10)\n",
    "\n",
    "ax11 = axes[1][1]\n",
    "ax11.contour(x,y,z, levels=10, cmap='plasma')\n",
    "\n",
    "plt.show()"
   ]
  },
  {
   "cell_type": "code",
   "execution_count": null,
   "id": "ed40f358",
   "metadata": {},
   "outputs": [],
   "source": [
    "figure, axes = plt.subplots(2,2, figsize=(15,10))\n",
    "\n",
    "ax00 = axes[0][0]\n",
    "ax00.contourf(x,y,z, levels=10)\n",
    "\n",
    "ax01 = axes[0][1]\n",
    "ax01.contourf(x,y,z, levels=10, cmap='plasma')\n",
    "\n",
    "ax10 = axes[1][0]\n",
    "cnt = ax10.contour(x,y,z, levels=10)\n",
    "ax10.clabel(cnt, fontsize=10)\n",
    "\n",
    "ax11 = axes[1][1]\n",
    "cnt = ax11.contour(x,y,z, levels=10, cmap='plasma')\n",
    "\n",
    "plt.colorbar(cnt, ax=ax11)\n",
    "\n",
    "plt.show()"
   ]
  },
  {
   "cell_type": "code",
   "execution_count": null,
   "id": "e36cde7d",
   "metadata": {},
   "outputs": [],
   "source": [
    "figure, axes = plt.subplots(2,2, figsize=(15,10))\n",
    "\n",
    "ax00 = axes[0][0]\n",
    "cnt00 = ax00.contourf(x,y,z, levels=10)\n",
    "\n",
    "ax01 = axes[0][1]\n",
    "cnt01 = ax01.contourf(x,y,z, levels=10, cmap='plasma')\n",
    "ax01.clabel(cnt01, fontsize=10, colors='white')\n",
    "\n",
    "ax10 = axes[1][0]\n",
    "cnt10 = ax10.contour(x,y,z, levels=10)\n",
    "ax10.clabel(cnt10, fontsize=10)\n",
    "\n",
    "ax11 = axes[1][1]\n",
    "cnt11 = ax11.contour(x,y,z, levels=10, cmap='plasma')\n",
    "\n",
    "plt.colorbar(cnt00, ax=ax00)\n",
    "plt.colorbar(cnt11, ax=ax11)\n",
    "\n",
    "plt.show()"
   ]
  },
  {
   "cell_type": "markdown",
   "id": "def3f93a",
   "metadata": {},
   "source": [
    "### Gradient/Vector Fields (Quiver Plots/Phase Plots)"
   ]
  },
  {
   "cell_type": "code",
   "execution_count": null,
   "id": "e0800eb1",
   "metadata": {},
   "outputs": [],
   "source": [
    "%reset"
   ]
  },
  {
   "cell_type": "code",
   "execution_count": null,
   "id": "76c7e97d",
   "metadata": {},
   "outputs": [],
   "source": [
    "import numpy as np\n",
    "import matplotlib.pyplot as plt"
   ]
  },
  {
   "cell_type": "code",
   "execution_count": null,
   "id": "177c206e",
   "metadata": {},
   "outputs": [],
   "source": [
    "dim = np.linspace(-3, 3, 20)\n",
    "\n",
    "x, y = np.meshgrid(dim, dim)\n",
    "\n",
    "u = -1 - x**2 + y\n",
    "v = 1 + x - y**2\n",
    "\n",
    "# creating plot\n",
    "fig, ax = plt.subplots(figsize =(8, 6))\n",
    "\n",
    "ax.quiver(x, y, u, v)\n",
    "\n",
    "ax.set_aspect('equal')\n",
    "\n",
    "# show plot\n",
    "plt.show()"
   ]
  },
  {
   "cell_type": "code",
   "execution_count": null,
   "id": "5fc5bca4",
   "metadata": {},
   "outputs": [],
   "source": [
    "# Creating arrow\n",
    "dim = np.arange(0, 2.2, 0.2)\n",
    "\n",
    "x, y = np.meshgrid(dim, dim)\n",
    "\n",
    "u = np.cos(x)*y\n",
    "v = np.sin(y)*x\n",
    "\n",
    "# creating plot\n",
    "fig, ax = plt.subplots(figsize =(8, 6))\n",
    "\n",
    "ax.quiver(x, y, u, v)\n",
    "\n",
    "ax.set_aspect('equal')\n",
    "\n",
    "# show plot\n",
    "plt.show()"
   ]
  },
  {
   "cell_type": "code",
   "execution_count": null,
   "id": "889ab12a",
   "metadata": {},
   "outputs": [],
   "source": [
    "# Creating arrow\n",
    "dim = np.arange(0, 2*np.pi + 2*np.pi/20, 2*np.pi/20)\n",
    "\n",
    "x, y = np.meshgrid(dim, dim)\n",
    "\n",
    "u = np.sin(x)*np.cos(y)\n",
    "v = -np.cos(x)*np.sin(y)\n",
    "\n",
    "# Creating plot\n",
    "fig, ax = plt.subplots(figsize =(8, 6))\n",
    "\n",
    "ax.quiver(x, y, u, v)\n",
    "\n",
    "ax.set_aspect('equal')\n",
    "\n",
    "# show plot\n",
    "plt.show()"
   ]
  },
  {
   "cell_type": "code",
   "execution_count": null,
   "id": "3b1a5d7b",
   "metadata": {},
   "outputs": [],
   "source": [
    "dim = np.arange(-2, 2, .2)\n",
    "\n",
    "x, y = np.meshgrid(dim, dim)\n",
    "\n",
    "z = x*np.exp(-x**2 - y**2)\n",
    "\n",
    "u = np.sin(x)*np.cos(y)\n",
    "v = -np.cos(x)*np.sin(y)\n",
    "\n",
    "fig, ax = plt.subplots(figsize=(7,5))\n",
    "\n",
    "plt.quiver(x,y,u,v)\n",
    "\n",
    "plt.show()"
   ]
  },
  {
   "cell_type": "code",
   "execution_count": null,
   "id": "c917bac0",
   "metadata": {},
   "outputs": [],
   "source": [
    "dim = np.arange(-2, 2, .2)\n",
    "\n",
    "x, y = np.meshgrid(dim, dim)\n",
    "\n",
    "u = y*x**2\n",
    "v = x*y**2\n",
    "\n",
    "figure, axes = plt.subplots(2, 2, figsize=(10,10))\n",
    "\n",
    "ax00 = axes[0][0]\n",
    "ax00.quiver(x,y,u,v, color=\"C0\", angles='xy', scale_units='xy', scale=15, width=.0055)\n",
    "\n",
    "ax01 = axes[0][1]\n",
    "ax01.quiver(x,y,u,v, color=\"C0\", angles='xy', scale_units='xy', scale=15, width=.0055)\n",
    "\n",
    "ax10 = axes[1][0]\n",
    "ax10.quiver(x,y,u,v, color=\"C0\", angles='xy', scale_units='xy', scale=15, width=.0055)\n",
    "\n",
    "ax11 = axes[1][1]\n",
    "ax11.quiver(x,y,u,v, color=\"C0\", angles='xy', scale_units='xy', scale=15, width=.0055)\n",
    "\n",
    "plt.show()"
   ]
  },
  {
   "cell_type": "code",
   "execution_count": null,
   "id": "2553358e",
   "metadata": {},
   "outputs": [],
   "source": [
    "# Defining subplots\n",
    "fig, (ax1, ax2) = plt.subplots(1, 2, figsize =(8, 5))\n",
    "\n",
    "# first subplot\n",
    "# Creating arrows\n",
    "dim1 = np.arange(0, 2.2, 0.2)\n",
    "x, y = np.meshgrid(dim1, dim1)\n",
    "\n",
    "# Define the Functions\n",
    "u = np.cos(x)*y\n",
    "v = np.sin(y)*y\n",
    "\n",
    "# Creating plot\n",
    "ax1.quiver(x, y, u, v, alpha = 0.8)\n",
    "ax1.set_aspect('equal')\n",
    "ax1.set_title('Function')\n",
    "\n",
    "# second subplot\n",
    "# Creating arrows\n",
    "dim2 = np.arange(-2, 2.2, 0.2)\n",
    "x, y = np.meshgrid(dim2, dim2)\n",
    "\n",
    "# Define the derivative function\n",
    "z = x*np.exp(-x**2 - y**2)\n",
    "\n",
    "dx, dy = np.gradient(z)\n",
    "\n",
    "# Creating plot\n",
    "ax2.quiver(x, y, dx, dy)\n",
    "ax2.set_aspect('equal')\n",
    "ax2.set_title('Gradient')\n",
    "\n",
    "plt.show()"
   ]
  },
  {
   "cell_type": "code",
   "execution_count": null,
   "id": "01a2179b",
   "metadata": {},
   "outputs": [],
   "source": [
    "import numpy as np\n",
    "import matplotlib.pyplot as plt"
   ]
  },
  {
   "cell_type": "code",
   "execution_count": null,
   "id": "a3a48f74",
   "metadata": {},
   "outputs": [],
   "source": [
    "dim = np.linspace(-3, 3, 100)\n",
    "x, y = np.meshgrid(dim, dim)\n",
    "\n",
    "u = -1 - x**2 + y\n",
    "v = 1 + x - y**2\n",
    "\n",
    "# Speed is the magnitude of the velocity vector\n",
    "speed = np.sqrt(u**2 + v**2)"
   ]
  },
  {
   "cell_type": "code",
   "execution_count": null,
   "id": "9e9ed91d",
   "metadata": {},
   "outputs": [],
   "source": [
    "lw=5*speed/speed.max()\n",
    "\n",
    "figure, axes = plt.subplots(2, 2, figsize=(10,10))\n",
    "\n",
    "ax00 = axes[0][0]\n",
    "ax00.streamplot(x,y,u,v)\n",
    "\n",
    "ax01 = axes[0][1]\n",
    "ax01.streamplot(x,y,u,v, color=speed)\n",
    "\n",
    "ax10 = axes[1][0]\n",
    "ax10.streamplot(x,y,u,v, linewidth=lw)\n",
    "\n",
    "ax11 = axes[1][1]\n",
    "ax11.streamplot(x,y,u,v, linewidth=lw, color=speed)\n",
    "\n",
    "plt.show()"
   ]
  },
  {
   "cell_type": "markdown",
   "id": "ef496422",
   "metadata": {},
   "source": [
    "### 3D Plots"
   ]
  },
  {
   "cell_type": "code",
   "execution_count": null,
   "id": "ad7d0e30",
   "metadata": {},
   "outputs": [],
   "source": [
    "%reset"
   ]
  },
  {
   "cell_type": "code",
   "execution_count": null,
   "id": "7e1a73cc",
   "metadata": {},
   "outputs": [],
   "source": [
    "import matplotlib.pyplot as plt\n",
    "import numpy as np"
   ]
  },
  {
   "cell_type": "code",
   "execution_count": null,
   "id": "ee0ac78d",
   "metadata": {},
   "outputs": [],
   "source": [
    "fig = plt.figure(figsize = (5, 5))\n",
    "\n",
    "ax = plt.axes(projection='3d')\n",
    "\n",
    "plt.show()"
   ]
  },
  {
   "cell_type": "code",
   "execution_count": null,
   "id": "23e2c01b",
   "metadata": {},
   "outputs": [],
   "source": [
    "figure = plt.figure(figsize=(5,5))\n",
    "\n",
    "ax = plt.axes(projection='3d')\n",
    "\n",
    "# Single Point\n",
    "ax.scatter(5,10,8)\n",
    "\n",
    "plt.show()"
   ]
  },
  {
   "cell_type": "code",
   "execution_count": null,
   "id": "2655392f",
   "metadata": {},
   "outputs": [],
   "source": [
    "figure = plt.figure(figsize=(6,6))\n",
    "\n",
    "# Coordinate Plot\n",
    "x1=[1,2,3]\n",
    "x2=[2,6,4]\n",
    "x3=[5,6,1]\n",
    "\n",
    "ax = plt.axes(projection='3d')\n",
    "\n",
    "ax.plot(x1, x2, x3, 'o')\n",
    "\n",
    "plt.show()"
   ]
  },
  {
   "cell_type": "code",
   "execution_count": null,
   "id": "91f0f808",
   "metadata": {},
   "outputs": [],
   "source": [
    "figure = plt.figure(figsize=(6,6))\n",
    "\n",
    "# Coordinate Plot\n",
    "x1=[1,2,3]\n",
    "x2=[2,6,4]\n",
    "x3=[5,6,1]\n",
    "\n",
    "ax = plt.axes(projection='3d')\n",
    "\n",
    "ax.plot(x1, x2, x3, 'o',linestyle='dotted')\n",
    "\n",
    "plt.show()"
   ]
  },
  {
   "cell_type": "code",
   "execution_count": null,
   "id": "d65853be",
   "metadata": {},
   "outputs": [],
   "source": [
    "figure = plt.figure(figsize=(6,6))\n",
    "\n",
    "# Scatter Plots\n",
    "ax = plt.axes(projection='3d')\n",
    "\n",
    "x_data=np.random.randint(0,100,(500))\n",
    "y_data=np.random.randint(0,100,(500))\n",
    "z_data=np.random.randint(0,100,(500))\n",
    "\n",
    "ax.scatter(x_data,y_data,z_data, marker='>')\n",
    "\n",
    "plt.show()"
   ]
  },
  {
   "cell_type": "code",
   "execution_count": null,
   "id": "b96ff1a3",
   "metadata": {},
   "outputs": [],
   "source": [
    "figure = plt.figure(figsize=(6,6))\n",
    "\n",
    "# Function\n",
    "plt.axes(projection='3d')\n",
    "\n",
    "x_data = np.arange(0,50,0.1)\n",
    "y_data = np.arange(0,50,0.1)\n",
    "z_data = x_data*y_data\n",
    "\n",
    "plt.plot(x_data, y_data, z_data)\n",
    "\n",
    "plt.show()"
   ]
  },
  {
   "cell_type": "code",
   "execution_count": null,
   "id": "ae52d1c3",
   "metadata": {},
   "outputs": [],
   "source": [
    "figure = plt.figure(figsize=(6,6))\n",
    "\n",
    "# Function\n",
    "ax=plt.axes(projection='3d')\n",
    "\n",
    "# defining all 3 axis\n",
    "z = np.linspace(0, 1, 100)\n",
    "x = z * np.sin(25 * z)\n",
    "y = z * np.cos(25 * z)\n",
    "\n",
    "ax.plot(x, y, z)\n",
    "\n",
    "plt.show()"
   ]
  },
  {
   "cell_type": "code",
   "execution_count": null,
   "id": "e56bab6b",
   "metadata": {},
   "outputs": [],
   "source": [
    "figure = plt.figure(figsize=(6,6))\n",
    "\n",
    "ax = plt.axes(projection='3d')\n",
    "\n",
    "# Data for a three-dimensional line\n",
    "zline = np.linspace(0, 15, 1000)\n",
    "xline = np.sin(zline)\n",
    "yline = np.cos(zline)\n",
    "\n",
    "ax.plot(xline, yline, zline, 'gray')\n",
    "\n",
    "# Data for three-dimensional scattered points\n",
    "zdata = 15 * np.random.random(100)\n",
    "xdata = np.sin(zdata) + 0.1 * np.random.randn(100)\n",
    "ydata = np.cos(zdata) + 0.1 * np.random.randn(100)\n",
    "\n",
    "ax.scatter(xdata, ydata, zdata, c=zdata, cmap='Greens') \n",
    "\n",
    "plt.show()"
   ]
  },
  {
   "cell_type": "code",
   "execution_count": null,
   "id": "dd87d455",
   "metadata": {},
   "outputs": [],
   "source": [
    "figure = plt.figure(figsize=(6,6))\n",
    "\n",
    "# Surface Plots\n",
    "ax=plt.axes(projection='3d')\n",
    "\n",
    "x_data = np.arange(-5,5,0.1)\n",
    "y_data = np.arange(-5,5,0.1)\n",
    "\n",
    "X,Y = np.meshgrid(x_data,y_data)\n",
    "\n",
    "#print(X)\n",
    "\n",
    "Z=np.sin(X)*np.cos(Y)\n",
    "\n",
    "ax.plot_surface(X,Y,Z, cmap='plasma')\n",
    "\n",
    "plt.show()"
   ]
  },
  {
   "cell_type": "code",
   "execution_count": null,
   "id": "c1f4935d",
   "metadata": {},
   "outputs": [],
   "source": [
    "figure = plt.figure(figsize=(6,6))\n",
    "\n",
    "# Surface Plots\n",
    "ax=plt.axes(projection='3d')\n",
    "\n",
    "x_data = np.arange(-5,5,0.1)\n",
    "y_data = np.arange(-5,5,0.1)\n",
    "\n",
    "X,Y = np.meshgrid(x_data,y_data)\n",
    "\n",
    "#print(X)\n",
    "\n",
    "Z=np.sin(X)*np.cos(Y)\n",
    "\n",
    "ax.plot_surface(X,Y,Z, cmap='plasma')\n",
    "\n",
    "azimuth = 10\n",
    "elevation = 10\n",
    "\n",
    "ax.view_init(azim=azimuth, elev=elevation)\n",
    "\n",
    "plt.show()"
   ]
  },
  {
   "cell_type": "code",
   "execution_count": null,
   "id": "9d432229",
   "metadata": {},
   "outputs": [],
   "source": [
    "fig = plt.figure(figsize=(6, 6))\n",
    "\n",
    "ax = plt.axes(projection='3d')\n",
    "\n",
    "ax.contour3D(X, Y, Z, 50, cmap='binary')\n",
    "\n",
    "plt.show()"
   ]
  },
  {
   "cell_type": "code",
   "execution_count": null,
   "id": "850077cf",
   "metadata": {},
   "outputs": [],
   "source": [
    "fig = plt.figure(figsize=(6, 6))\n",
    "\n",
    "ax = plt.axes(projection='3d')\n",
    "\n",
    "ax.plot_wireframe(X, Y, Z, color='black')\n",
    "\n",
    "plt.show()"
   ]
  },
  {
   "cell_type": "code",
   "execution_count": null,
   "id": "9cfd4dd7",
   "metadata": {},
   "outputs": [],
   "source": [
    "fig = plt.figure(figsize=(6, 6))\n",
    "\n",
    "ax = plt.axes(projection='3d')\n",
    "\n",
    "ax.plot_surface(X, Y, Z, cmap=\"viridis\")\n",
    "\n",
    "plt.show()"
   ]
  },
  {
   "cell_type": "code",
   "execution_count": null,
   "id": "7b13ede9",
   "metadata": {},
   "outputs": [],
   "source": [
    "ax = plt.axes(projection='3d')\n",
    "\n",
    "x = np.linspace(0,50,50)\n",
    "y = np.linspace(0,50,50)\n",
    "\n",
    "X, Y = np.meshgrid(x,y)\n",
    "\n",
    "Z = X*Y\n",
    "\n",
    "ax.plot_surface(X,Y,Z)\n",
    "\n",
    "plt.show()"
   ]
  },
  {
   "cell_type": "code",
   "execution_count": null,
   "id": "86b60f55",
   "metadata": {},
   "outputs": [],
   "source": [
    "axis = plt.axes(projection='3d')\n",
    "\n",
    "x = np.linspace(-1,1,50)\n",
    "y = np.linspace(-1,1,50)\n",
    "\n",
    "# Define Domain in variables x and y\n",
    "X,Y = np.meshgrid(x,y)\n",
    "\n",
    "# Define Multivariable Function\n",
    "Z=X**2+X*Y\n",
    "\n",
    "axis.plot_surface(X,Y,Z, cmap='plasma')\n",
    "\n",
    "plt.show()"
   ]
  },
  {
   "cell_type": "markdown",
   "id": "1ee328f3",
   "metadata": {},
   "source": [
    "### Sympy plot3d"
   ]
  },
  {
   "cell_type": "code",
   "execution_count": null,
   "id": "c749ed47",
   "metadata": {},
   "outputs": [],
   "source": [
    "%reset"
   ]
  },
  {
   "cell_type": "code",
   "execution_count": null,
   "id": "c64c8020",
   "metadata": {},
   "outputs": [],
   "source": [
    "import sympy as smp\n",
    "from sympy.plotting import plot3d\n",
    "import matplotlib.pyplot as plt"
   ]
  },
  {
   "cell_type": "code",
   "execution_count": null,
   "id": "ef5cd5e1",
   "metadata": {},
   "outputs": [],
   "source": [
    "plt.rcParams['figure.figsize'] = 6, 6\n",
    "\n",
    "plt.rcParams['axes.grid'] = True\n",
    "\n",
    "plt.rcParams['xtick.major.pad'] = 0"
   ]
  },
  {
   "cell_type": "code",
   "execution_count": null,
   "id": "ffbf1c24",
   "metadata": {},
   "outputs": [],
   "source": [
    "x, y = smp.symbols('x, y')"
   ]
  },
  {
   "cell_type": "code",
   "execution_count": null,
   "id": "a75de76b",
   "metadata": {},
   "outputs": [],
   "source": [
    "# Paraboloid\n",
    "z = x**2/3**2 + y**2/5**2 \n",
    "\n",
    "plt = plot3d(z, (x, -5, 5), (y, -5, 5), show=False, size=(6, 6))\n",
    "\n",
    "plt.show()"
   ]
  },
  {
   "cell_type": "code",
   "execution_count": null,
   "id": "d00a2a39",
   "metadata": {},
   "outputs": [],
   "source": [
    "# Hyperboloid\n",
    "z = x**2/3**2 - y**2/5**2\n",
    "\n",
    "plt = plot3d(z, (x, -5, 5), (y, -5, 5), show=False, size=(6, 6))\n",
    "\n",
    "plt.show()"
   ]
  },
  {
   "cell_type": "code",
   "execution_count": null,
   "id": "1194140d",
   "metadata": {},
   "outputs": [],
   "source": [
    "def h(x,y):\n",
    "    return (x**2 * y) / (x**4 + y**2)"
   ]
  },
  {
   "cell_type": "code",
   "execution_count": null,
   "id": "6a42ceed",
   "metadata": {},
   "outputs": [],
   "source": [
    "plt = plot3d(h(x, y), (x, -10, 10), (y, -10, 10), show=False)\n",
    "\n",
    "plt.show()"
   ]
  },
  {
   "cell_type": "code",
   "execution_count": null,
   "id": "69aad205",
   "metadata": {},
   "outputs": [],
   "source": [
    "import matplotlib.pyplot as plt\n",
    "\n",
    "plt.rcParams['xtick.major.pad'] = 80\n",
    "\n",
    "plt = plot3d(h(x, y), (x, -10, 10), (y, -10, 10), show=False)\n",
    "\n",
    "plt.show()"
   ]
  },
  {
   "cell_type": "code",
   "execution_count": null,
   "id": "680e2186",
   "metadata": {},
   "outputs": [],
   "source": [
    "import matplotlib.pyplot as plt\n",
    "\n",
    "plt.rcParams['xtick.major.pad'] = 0\n",
    "\n",
    "plt = plot3d(h(x, y), (x, -10, 10), (y, -10, 10), show=False)\n",
    "\n",
    "plt.show()"
   ]
  },
  {
   "cell_type": "code",
   "execution_count": null,
   "id": "c70729b7",
   "metadata": {},
   "outputs": [],
   "source": [
    "import matplotlib.pyplot as plt\n",
    "\n",
    "plt.rcParams['xtick.major.pad'] = 80\n",
    "\n",
    "plt = plot3d(h(x, y), (x, -10, 10), (y, -10, 10), show=False)\n",
    "\n",
    "plt.show()"
   ]
  },
  {
   "cell_type": "code",
   "execution_count": null,
   "id": "4a466640",
   "metadata": {},
   "outputs": [],
   "source": [
    "import matplotlib.pyplot as plt\n",
    "\n",
    "plt.rcParams['xtick.major.pad'] = 5\n",
    "\n",
    "plt = plot3d(h(x, y), (x, -10, 10), (y, -10, 10), show=False)\n",
    "\n",
    "plt.show()"
   ]
  },
  {
   "cell_type": "markdown",
   "id": "cc580cbb",
   "metadata": {},
   "source": [
    "###  Animations"
   ]
  },
  {
   "cell_type": "code",
   "execution_count": null,
   "id": "5f3d7609",
   "metadata": {},
   "outputs": [],
   "source": [
    "%reset"
   ]
  },
  {
   "cell_type": "markdown",
   "id": "4018a015",
   "metadata": {},
   "source": [
    "Using the IPython magic command <code> %matplotlib inline </code> sets the default image file type to .png graphics.\n",
    "\n",
    ".png Images are static and not really intended for animation.\n",
    "\n",
    "Although, in principle one could build an animation by successively replacing the .png image with a sequence of updated .png images, this is probably not desired.\n",
    "\n",
    "A solution is to use the notebook backend by adding the IPython magic command <code> %matplotlib notebook </code> to your jupyter notebook script.\n",
    "\n",
    "This is fully compatible with FuncAnimation as it renders the matplotlib figure itself.\n",
    "\n",
    "A huge advantage to using this technique is that we do not require any video codecs, such as ffmpeg and x264, which is not readily available as python libraries.\n",
    "\n",
    "This technique uses JavaScript to render the animation, which makes it very practical for displaying our results in the browser within the Jupyter Notebook Environment."
   ]
  },
  {
   "cell_type": "code",
   "execution_count": null,
   "id": "04e57f0d",
   "metadata": {},
   "outputs": [],
   "source": [
    "import matplotlib.pyplot as plt\n",
    "import matplotlib.animation\n",
    "import numpy as np\n",
    "\n",
    "t = np.linspace(0,2*np.pi)\n",
    "x = np.sin(t)\n",
    "\n",
    "fig, ax = plt.subplots()\n",
    "ax.axis([0,2*np.pi,-1,1])\n",
    "\n",
    "l, = ax.plot([],[])\n",
    "\n",
    "def animate(i):\n",
    "    l.set_data(t[:i], x[:i])\n",
    "\n",
    "ani = matplotlib.animation.FuncAnimation(fig, animate, frames=len(t))\n",
    "\n",
    "plt.close()\n",
    "\n",
    "from IPython.display import HTML\n",
    "HTML(ani.to_jshtml())"
   ]
  },
  {
   "cell_type": "code",
   "execution_count": null,
   "id": "a90a5125",
   "metadata": {},
   "outputs": [],
   "source": [
    "import matplotlib.pyplot as plt\n",
    "\n",
    "plt.rcParams[\"animation.html\"] = \"jshtml\""
   ]
  },
  {
   "cell_type": "code",
   "execution_count": null,
   "id": "ee7c637d",
   "metadata": {},
   "outputs": [],
   "source": [
    "import matplotlib.animation\n",
    "import numpy as np"
   ]
  },
  {
   "cell_type": "code",
   "execution_count": null,
   "id": "b5cd1348",
   "metadata": {},
   "outputs": [],
   "source": [
    "t = np.linspace(0,2*np.pi)\n",
    "x = np.sin(t)\n",
    "\n",
    "fig, ax = plt.subplots()\n",
    "l, = ax.plot([0,2*np.pi],[-1,1])\n",
    "\n",
    "def animate(i):\n",
    "    l.set_data(t[:i], x[:i])\n",
    "\n",
    "ani = matplotlib.animation.FuncAnimation(fig, animate, frames=len(t))\n",
    "\n",
    "plt.close()\n",
    "\n",
    "ani"
   ]
  },
  {
   "cell_type": "markdown",
   "id": "4de3de65",
   "metadata": {},
   "source": [
    "If we want to convert your animation to a .mp4 video format, we can follow the same approach as in the first example, however we will require the ffmpeg video codecs installed onto your OS to convert the result to an HTML5 video tag element which will show the video inline, therefore also compatible with <code>%matplotlib inline</code> backend. We will not illustrate this in depth, but only provide a piece of code for this to work once ffmpeg is installed onto your OS:"
   ]
  },
  {
   "cell_type": "code",
   "execution_count": null,
   "id": "3a8d4ae2",
   "metadata": {},
   "outputs": [],
   "source": [
    "# %matplotlib inline\n",
    "# import matplotlib.pyplot as plt\n",
    "# import matplotlib.animation\n",
    "# import numpy as np\n",
    "\n",
    "# t = np.linspace(0,2*np.pi)\n",
    "# x = np.sin(t)\n",
    "\n",
    "# fig, ax = plt.subplots()\n",
    "\n",
    "# l, = ax.plot([0,2*np.pi],[-1,1])\n",
    "\n",
    "# def animate(i):\n",
    "#     l.set_data(t[:i], x[:i])\n",
    "\n",
    "# ani = matplotlib.animation.FuncAnimation(fig, animate, frames=len(t))\n",
    "\n",
    "# from IPython.display import HTML\n",
    "# HTML(ani.to_html5_video())"
   ]
  },
  {
   "cell_type": "markdown",
   "id": "46d64c7f",
   "metadata": {},
   "source": [
    "Saving animations to your offline directory for later use can be done by importing PillowWriter from matplotlib.animation into Jupyter Notebook.\n",
    "\n",
    "<code>from matplotlib.animation import PillowWriter</code>"
   ]
  },
  {
   "cell_type": "code",
   "execution_count": null,
   "id": "c1fbea0d",
   "metadata": {},
   "outputs": [],
   "source": [
    "from matplotlib.animation import PillowWriter"
   ]
  },
  {
   "cell_type": "code",
   "execution_count": null,
   "id": "324c8557",
   "metadata": {},
   "outputs": [],
   "source": [
    "t = np.linspace(0,2*np.pi)\n",
    "x = np.sin(t)\n",
    "\n",
    "fig, ax = plt.subplots()\n",
    "l, = ax.plot([0,2*np.pi],[-1,1])\n",
    "\n",
    "def animate(i):\n",
    "    l.set_data(t[:i], x[:i])\n",
    "\n",
    "ani = matplotlib.animation.FuncAnimation(fig, animate, frames=len(t))\n",
    "\n",
    "writer = PillowWriter(fps=25)\n",
    "ani.save(\"This_is_a_pillowwriter_export_demo.gif\", writer=writer)\n",
    "\n",
    "plt.close()\n",
    "\n",
    "ani"
   ]
  },
  {
   "cell_type": "code",
   "execution_count": null,
   "id": "6338b383",
   "metadata": {},
   "outputs": [],
   "source": [
    "t = np.linspace(0,2*np.pi)\n",
    "x = np.sin(t)\n",
    "\n",
    "fig, ax = plt.subplots()\n",
    "l, = ax.plot([0,2*np.pi],[-1,1])\n",
    "\n",
    "def animate(i):\n",
    "    l.set_data(t[:i], x[:i])\n",
    "\n",
    "ani = matplotlib.animation.FuncAnimation(fig, animate, frames=len(t))\n",
    "\n",
    "writer = PillowWriter(fps=25)\n",
    "ani.save(\"This_is_a_pillowwriter_export_demo.apng\", writer=writer)\n",
    "\n",
    "plt.close()\n",
    "\n",
    "ani"
   ]
  },
  {
   "cell_type": "code",
   "execution_count": null,
   "id": "fef6fac3",
   "metadata": {},
   "outputs": [],
   "source": [
    "t = np.linspace(0,2*np.pi)\n",
    "x = np.sin(t)\n",
    "\n",
    "fig, ax = plt.subplots()\n",
    "l, = ax.plot([0,2*np.pi],[-1,1])\n",
    "\n",
    "def animate(i):\n",
    "    l.set_data(t[:i], x[:i])\n",
    "\n",
    "ani = matplotlib.animation.FuncAnimation(fig, animate, frames=len(t))\n",
    "\n",
    "writer = PillowWriter(fps=25)\n",
    "ani.save(\"This_is_a_pillowwriter_export_demo.webp\", writer=writer)\n",
    "\n",
    "plt.close()\n",
    "\n",
    "ani"
   ]
  },
  {
   "cell_type": "code",
   "execution_count": null,
   "id": "71fffc03",
   "metadata": {},
   "outputs": [],
   "source": [
    "fig, ax = plt.subplots()\n",
    "\n",
    "frames = np.linspace(0, 2*np.pi, 50)\n",
    "\n",
    "x = []\n",
    "ysin = []\n",
    "ycos = []\n",
    "\n",
    "ln1, = plt.plot([], [], 'o')\n",
    "ln2, = plt.plot([], [], ':')\n",
    "\n",
    "ax.set_xlim(0, 2*np.pi)\n",
    "ax.set_ylim(-1, 1)\n",
    "\n",
    "def update(i):\n",
    "    \n",
    "    x.append(i)\n",
    "    \n",
    "    ysin.append(np.sin(i))\n",
    "    ycos.append(np.cos(i))\n",
    "    \n",
    "    ln1.set_data(x, ysin)\n",
    "    ln2.set_data(x, ycos)\n",
    "    \n",
    "ani = matplotlib.animation.FuncAnimation(fig, update, frames)\n",
    "\n",
    "writer = PillowWriter(fps=25)\n",
    "ani.save(\"Sin_Cos.gif\", writer=writer)\n",
    "\n",
    "plt.close()\n",
    "\n",
    "ani"
   ]
  },
  {
   "cell_type": "code",
   "execution_count": null,
   "id": "227e602f",
   "metadata": {},
   "outputs": [],
   "source": [
    "t = np.linspace(0,2*np.pi)\n",
    "g = np.sin(t)\n",
    "\n",
    "fig, ax = plt.subplots()\n",
    "\n",
    "l, = ax.plot([0,2*np.pi],[-1,1])\n",
    "\n",
    "ax.spines['bottom'].set_position('zero')\n",
    "ax.spines['top'].set_color('none')\n",
    "ax.spines['left'].set_position('zero')\n",
    "ax.spines['right'].set_color('none')\n",
    "\n",
    "ax.set_xlabel(\"x\", loc=\"right\")\n",
    "ax.set_ylabel(\"y\", loc=\"top\", rotation=0)\n",
    "\n",
    "ax.set_xticks([],[])\n",
    "ax.set_yticks([],[])\n",
    "\n",
    "# Show ticks in the left and lower axes only\n",
    "ax.xaxis.set_ticks_position('bottom')\n",
    "ax.yaxis.set_ticks_position('right')\n",
    "\n",
    "def animate(i):\n",
    "    l.set_data(t[:i], g[:i])\n",
    "\n",
    "ani = matplotlib.animation.FuncAnimation(fig, animate, frames=len(t))\n",
    "\n",
    "writer = PillowWriter(fps=25)\n",
    "ani.save(\"Example3.gif\", writer=writer)\n",
    "\n",
    "plt.close()\n",
    "\n",
    "ani"
   ]
  },
  {
   "cell_type": "code",
   "execution_count": null,
   "id": "8751b0d6",
   "metadata": {},
   "outputs": [],
   "source": [
    "# Define the union operation of two sets to be used to merge intervals containing elements of different multiples of pi\n",
    "def Union(lst1, lst2):\n",
    "    merged_list = list(set(lst1) | set(lst2))\n",
    "    return np.sort(merged_list)\n",
    "\n",
    "# Define a procedure for reflecting the y-values about the x-axis for the intervals above\n",
    "def Reflect(lst):\n",
    "    return [-i for i in lst]"
   ]
  },
  {
   "cell_type": "code",
   "execution_count": null,
   "id": "6b8c756d",
   "metadata": {},
   "outputs": [],
   "source": [
    "def f(x):\n",
    "    return np.sin(x)\n",
    "\n",
    "def g(x):\n",
    "    return np.cos(x)"
   ]
  },
  {
   "cell_type": "code",
   "execution_count": null,
   "id": "fe81f205",
   "metadata": {},
   "outputs": [],
   "source": [
    "import sympy as smp"
   ]
  },
  {
   "cell_type": "code",
   "execution_count": null,
   "id": "bc2d3f29",
   "metadata": {},
   "outputs": [],
   "source": [
    "m = 2\n",
    "n = 2\n",
    "\n",
    "x = np.linspace(-m*np.pi, n*np.pi, 100)\n",
    "\n",
    "# Create a numpy array of elements which are multiples of pi/6\n",
    "xvalsrads1 = np.arange(-m*smp.pi, n*smp.pi + (smp.pi/6), (smp.pi/6))\n",
    "# Create a numpy array of elements which are multiples of pi/4\n",
    "xvalsrads2 = np.arange(-m*smp.pi, n*smp.pi, (smp.pi/4))\n",
    "\n",
    "# Take the union of each numpy array above\n",
    "xvalsrads = Union(xvalsrads1,xvalsrads2)\n",
    "# Convert the datatype of the elements in the numpy array xvalsrads to float (ax.set_xticks() cannot handle object datatype)\n",
    "xvalsradsreal = np.array(xvalsrads, dtype=float).tolist()\n",
    "\n",
    "# Convert the elements from numpy array xvalsradsreal to degrees which will be used as labels for the xticks\n",
    "xvalsdegs1 = list(np.arange(-m*smp.pi*(360/(2*smp.pi)), ((n*smp.pi)+(smp.pi/6))*(360/(2*smp.pi)), (smp.pi/6)*(360/(2*smp.pi))))\n",
    "xvalsdegs2 = list(np.arange(-m*smp.pi*(360/(2*smp.pi)), n*smp.pi*(360/(2*smp.pi)), (smp.pi/4)*(360/(2*smp.pi))))\n",
    "\n",
    "# Take the union of each numpy array above\n",
    "xvalsdegs = Union(xvalsdegs1,xvalsdegs2)\n",
    "# Convert the datatype of the elements in the numpy array xvalsdegs to int (ax.set_xticks() cannot handle object datatype)\n",
    "xvalsdegsreal = np.array(xvalsdegs, dtype=int).tolist()\n",
    "\n",
    "# Convert the elements in the xvalsradsreal numpy array strings\n",
    "xvalsradsstring = list(map(str, xvalsrads))\n",
    "\n",
    "# Replace the substring containing characters 'pi' of each string in xvalsradsstring with $\\\\pi$ to render as LaTeX\n",
    "xvalsradsstring = [string.replace('pi', '$\\\\pi$') for string in xvalsradsstring]\n",
    "\n",
    "# Replace the substring containing characters '*' of each string in xvalsradsstring with '' (an empty string - nothing)\n",
    "xvalsradsstringclean = [string.replace('*', '') for string in xvalsradsstring]"
   ]
  },
  {
   "cell_type": "code",
   "execution_count": null,
   "id": "af430d15",
   "metadata": {},
   "outputs": [],
   "source": [
    "# Define the minimum & maximum y-values along the y-axis\n",
    "k = 2\n",
    "\n",
    "# Create a numpy array of elements which are multiples of 1/2\n",
    "yvalspos1 = np.arange(0 , k, 1/2)\n",
    "# Create a numpy array of elements which are multiples of sqrt(2)/2\n",
    "yvalspos2 = np.arange(0 , k, smp.sqrt(2)/2)\n",
    "# Create a numpy array of elements which are multiples of sqrt(3)/2\n",
    "yvalspos3 = np.arange(0 , k, smp.sqrt(3)/2)\n",
    "\n",
    "# Apply the procedure above to obtain three new sets containing the negative values of the intervals above\n",
    "yvalsneg1 = Reflect(yvalspos1)\n",
    "yvalsneg2 = Reflect(yvalspos2)\n",
    "yvalsneg3 = Reflect(yvalspos3)\n",
    "\n",
    "# Glue the positive and negative intervals together using the union operation defined previously\n",
    "yvals1 = Union(yvalsneg1,yvalspos1)\n",
    "yvals2 = Union(yvalsneg2,yvalspos2)\n",
    "yvals3 = Union(yvalsneg3,yvalspos3)\n",
    "\n",
    "# Define the interval enpoints for the y-axis\n",
    "endpoints = [-k, k]\n",
    "\n",
    "# Take the union of each interval above, two at a time\n",
    "roots = Union(yvals1, yvals2)\n",
    "halfs = Union(yvals3, endpoints)\n",
    "\n",
    "# Finally, take the union of all the intervals together\n",
    "yvals = Union(roots, halfs)\n",
    "\n",
    "yvalsreal = np.array(yvals, dtype=float).tolist()\n",
    "\n",
    "# Convert the elements in the yvals numpy array strings\n",
    "yvalsstring = list(map(str, yvals))\n",
    "\n",
    "# Replace the substring containing characters 'sqrt' of each string in yvalsstring with $\\sqrt$ to render as LaTeX\n",
    "yvalsstringroot = [string.replace('sqrt', '\\\\sqrt') for string in yvalsstring]\n",
    "\n",
    "# Replace the substring containing characters 'sqrt' of each string in yvalsstring with $\\sqrt$ to render as LaTeX\n",
    "yvalsstringroot = [string.replace('(', '{') for string in yvalsstringroot]\n",
    "\n",
    "# Replace the substring containing characters 'sqrt' of each string in yvalsstring with $\\sqrt$ to render as LaTeX\n",
    "yvalsstringroot = [string.replace(')', '}') for string in yvalsstringroot]\n",
    "\n",
    "yvalsstringclean = [\"$\" + string + \"$\" for string in yvalsstringroot]"
   ]
  },
  {
   "cell_type": "code",
   "execution_count": null,
   "id": "17cb5abb",
   "metadata": {},
   "outputs": [],
   "source": [
    "t = np.linspace(-m*np.pi, n*np.pi, 50)\n",
    "g = np.sin(t)\n",
    "\n",
    "fig, ax = plt.subplots(figsize=(15, 5))\n",
    "\n",
    "l, = ax.plot([-m*np.pi,n*np.pi],[-k,k])\n",
    "\n",
    "ax.spines['bottom'].set_position('zero')\n",
    "ax.spines['top'].set_color('none')\n",
    "ax.spines['left'].set_position('zero')\n",
    "ax.spines['right'].set_color('none') \n",
    "\n",
    "ax.set_xlabel(\"x\", loc=\"right\")\n",
    "ax.set_ylabel(\"y\", loc=\"top\", rotation=0)\n",
    "\n",
    "# Set ticks along x-axis at positions xvalsradsreal having labels xvalsradsstringclean\n",
    "ax.set_xticks(xvalsradsreal, xvalsradsstringclean, fontsize=10, rotation=90)\n",
    "ax.set_yticks(yvalsreal, yvalsstringclean, fontsize=10, rotation=0)\n",
    "\n",
    "# Show ticks in the left and lower axes only\n",
    "ax.xaxis.set_ticks_position('bottom')\n",
    "ax.yaxis.set_ticks_position('left')\n",
    "\n",
    "def animate(i):\n",
    "    l.set_data(t[:i], g[:i])\n",
    "\n",
    "ani = matplotlib.animation.FuncAnimation(fig, animate, frames=len(t))\n",
    "\n",
    "writer = PillowWriter(fps=25)\n",
    "ani.save(\"Example4.gif\", writer=writer)\n",
    "\n",
    "plt.close()\n",
    "\n",
    "ani"
   ]
  },
  {
   "cell_type": "markdown",
   "id": "58bde871",
   "metadata": {},
   "source": [
    "### Travelling Waves"
   ]
  },
  {
   "cell_type": "code",
   "execution_count": null,
   "id": "b4a37111",
   "metadata": {},
   "outputs": [],
   "source": [
    "# First set up the figure, the axis, and the plot element we want to animate\n",
    "fig, ax = plt.subplots()\n",
    "\n",
    "ax.set_xlim((0, 2))\n",
    "ax.set_ylim((-2, 2))\n",
    "\n",
    "line, = ax.plot([], [], lw=2)\n",
    "\n",
    "# animation function. This is called sequentially\n",
    "def animate(i):\n",
    "    x = np.linspace(0, 2, 1000)\n",
    "    y = np.sin(2 * np.pi * (x - 0.01 * i))\n",
    "    line.set_data(x, y)\n",
    "\n",
    "# call the animator. blit=True means only re-draw the parts that have changed.\n",
    "anim = matplotlib.animation.FuncAnimation(fig, animate, frames=100, interval=20)\n",
    "\n",
    "writer = PillowWriter(fps=25)\n",
    "anim.save(\"Example0.gif\", writer=writer)\n",
    "\n",
    "plt.close()\n",
    "\n",
    "anim"
   ]
  },
  {
   "cell_type": "code",
   "execution_count": null,
   "id": "036bfac1",
   "metadata": {},
   "outputs": [],
   "source": [
    "# First set up the figure, the axis, and the plot element we want to animate\n",
    "fig, ax = plt.subplots()\n",
    "\n",
    "ax.set_xlim(( 0, 2))\n",
    "ax.set_ylim((-2, 2))\n",
    "\n",
    "ax.spines['bottom'].set_position('zero')\n",
    "ax.spines['top'].set_color('none')\n",
    "ax.spines['left'].set_position('zero')\n",
    "ax.spines['right'].set_color('none')\n",
    "\n",
    "ax.set_xlabel(\"x\", loc=\"right\")\n",
    "ax.set_ylabel(\"y\", loc=\"top\", rotation=0)\n",
    "\n",
    "line, = ax.plot([], [], lw=2)\n",
    "\n",
    "# initialization function: plot the background of each frame\n",
    "def init():\n",
    "    line.set_data([], [])\n",
    "    return (line,)\n",
    "\n",
    "# animation function. This is called sequentially\n",
    "def animate(i):\n",
    "    x = np.linspace(0, 2, 1000)\n",
    "    y = np.sin(2 * np.pi * (x - 0.01 * i))\n",
    "    line.set_data(x, y)\n",
    "    return (line,)\n",
    "\n",
    "# call the animator. blit=True means only re-draw the parts that have changed.\n",
    "anim = matplotlib.animation.FuncAnimation(fig, animate, init_func=init, frames=100, interval=20, blit=True)\n",
    "\n",
    "writer = PillowWriter(fps=25)\n",
    "anim.save(\"Example7.gif\", writer=writer)\n",
    "\n",
    "plt.close()\n",
    "\n",
    "anim"
   ]
  },
  {
   "cell_type": "code",
   "execution_count": null,
   "id": "d392654d",
   "metadata": {},
   "outputs": [],
   "source": [
    "# First set up the figure, the axis, and the plot element we want to animate\n",
    "fig, ax = plt.subplots()\n",
    "\n",
    "ax.set_xlim(( 0, 2))\n",
    "ax.set_ylim((-2, 2))\n",
    "\n",
    "ax.spines['bottom'].set_position('zero')\n",
    "ax.spines['top'].set_color('none')\n",
    "ax.spines['left'].set_position('zero')\n",
    "ax.spines['right'].set_color('none')\n",
    "\n",
    "ax.set_xlabel(\"x\", loc=\"right\")\n",
    "ax.set_ylabel(\"y\", loc=\"top\", rotation=0)\n",
    "\n",
    "line, = ax.plot([], [], lw=2)\n",
    "\n",
    "# Set ticks along x-axis at positions xvalsradsreal having labels xvalsradsstringclean \n",
    "ax.set_xticks(xvalsradsreal, xvalsradsstringclean, fontsize=10, rotation=90)\n",
    "ax.set_yticks(yvalsreal, yvalsstringclean, fontsize=10, rotation=0)\n",
    "\n",
    "# Show ticks in the left and lower axes only\n",
    "ax.xaxis.set_ticks_position('bottom')\n",
    "ax.yaxis.set_ticks_position('left')\n",
    "\n",
    "# animation function. This is called sequentially\n",
    "def animate(i):\n",
    "    y = np.sin(2 * np.pi * (x - 0.01 * i))\n",
    "    line.set_data(x, y) \n",
    "\n",
    "# call the animator. blit=True means only re-draw the parts that have changed.\n",
    "anim = matplotlib.animation.FuncAnimation(fig, animate, frames=100, interval=20)\n",
    "\n",
    "writer = PillowWriter(fps=25)\n",
    "anim.save(\"Example8.gif\", writer=writer)\n",
    "\n",
    "plt.close()\n",
    "\n",
    "anim"
   ]
  },
  {
   "cell_type": "markdown",
   "id": "388459af",
   "metadata": {},
   "source": [
    "### 3D Animations"
   ]
  },
  {
   "cell_type": "code",
   "execution_count": null,
   "id": "4f0136a5",
   "metadata": {},
   "outputs": [],
   "source": [
    "import matplotlib.animation\n",
    "import numpy as np\n",
    "\n",
    "import matplotlib.pyplot as plt\n",
    "\n",
    "plt.rcParams[\"animation.html\"] = \"jshtml\"\n",
    "\n",
    "from matplotlib.animation import PillowWriter"
   ]
  },
  {
   "cell_type": "code",
   "execution_count": null,
   "id": "6ce15657",
   "metadata": {},
   "outputs": [],
   "source": [
    "dim = np.linspace(-1,1,100)\n",
    "x, y = np.meshgrid(dim, dim)\n",
    "z = x**2+x*y"
   ]
  },
  {
   "cell_type": "code",
   "execution_count": null,
   "id": "79dc9ec2",
   "metadata": {},
   "outputs": [],
   "source": [
    "fig, ax = plt.subplots(subplot_kw={'projection':'3d'})\n",
    "\n",
    "ax.plot_surface(x,y,z, cmap='coolwarm', linewidth=0, antialiased=False)\n",
    "ax.view_init(elev=10, azim=0)\n",
    "\n",
    "def animate(i):\n",
    "    ax.view_init(elev=10, azim=3*i)\n",
    "    \n",
    "ani = matplotlib.animation.FuncAnimation(fig, animate, frames=120, interval=50)\n",
    "\n",
    "ani.save('animation_3D.gif', writer='pillow', fps=30, dpi=100) # Save Animation Externally\n",
    "\n",
    "plt.close()\n",
    "\n",
    "ani"
   ]
  },
  {
   "cell_type": "code",
   "execution_count": null,
   "id": "222db3f7",
   "metadata": {},
   "outputs": [],
   "source": []
  }
 ],
 "metadata": {
  "kernelspec": {
   "display_name": "Python 3 (ipykernel)",
   "language": "python",
   "name": "python3"
  },
  "language_info": {
   "codemirror_mode": {
    "name": "ipython",
    "version": 3
   },
   "file_extension": ".py",
   "mimetype": "text/x-python",
   "name": "python",
   "nbconvert_exporter": "python",
   "pygments_lexer": "ipython3",
   "version": "3.11.2"
  }
 },
 "nbformat": 4,
 "nbformat_minor": 5
}
