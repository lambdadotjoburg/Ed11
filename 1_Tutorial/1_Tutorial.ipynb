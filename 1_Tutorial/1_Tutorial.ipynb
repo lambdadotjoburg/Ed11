{
 "cells": [
  {
   "cell_type": "markdown",
   "id": "531b7adb",
   "metadata": {},
   "source": [
    "# Python"
   ]
  },
  {
   "cell_type": "markdown",
   "id": "6d2dcf16",
   "metadata": {},
   "source": [
    "## Mathematics & Physics for Teachers"
   ]
  },
  {
   "cell_type": "markdown",
   "id": "618bbc47",
   "metadata": {},
   "source": [
    "### Algebra"
   ]
  },
  {
   "cell_type": "markdown",
   "id": "b5f6647f",
   "metadata": {},
   "source": [
    "<code> C:\\Users\\Frank> pip install sympy </code>"
   ]
  },
  {
   "cell_type": "code",
   "execution_count": 1,
   "id": "fe36fe23",
   "metadata": {},
   "outputs": [],
   "source": [
    "import sympy as smp"
   ]
  },
  {
   "cell_type": "code",
   "execution_count": 2,
   "id": "87d8b68e",
   "metadata": {},
   "outputs": [],
   "source": [
    "x, y = smp.symbols('x y')"
   ]
  },
  {
   "cell_type": "code",
   "execution_count": 3,
   "id": "3715b145",
   "metadata": {},
   "outputs": [],
   "source": [
    "expression = x**2 + smp.sqrt(y)"
   ]
  },
  {
   "cell_type": "code",
   "execution_count": 4,
   "id": "7897aaf0",
   "metadata": {},
   "outputs": [
    {
     "data": {
      "text/latex": [
       "$\\displaystyle \\sqrt{y} + 4$"
      ],
      "text/plain": [
       "sqrt(y) + 4"
      ]
     },
     "execution_count": 4,
     "metadata": {},
     "output_type": "execute_result"
    }
   ],
   "source": [
    "expression.subs(x,2)"
   ]
  },
  {
   "cell_type": "code",
   "execution_count": 5,
   "id": "4ee6668d",
   "metadata": {},
   "outputs": [
    {
     "data": {
      "text/latex": [
       "$\\displaystyle 6$"
      ],
      "text/plain": [
       "6"
      ]
     },
     "execution_count": 5,
     "metadata": {},
     "output_type": "execute_result"
    }
   ],
   "source": [
    "expression.subs(x,2).subs(y,4)"
   ]
  },
  {
   "cell_type": "code",
   "execution_count": 6,
   "id": "1d2e2bc1",
   "metadata": {},
   "outputs": [
    {
     "data": {
      "text/latex": [
       "$\\displaystyle x^{2} + \\sqrt{y}$"
      ],
      "text/plain": [
       "x**2 + sqrt(y)"
      ]
     },
     "execution_count": 6,
     "metadata": {},
     "output_type": "execute_result"
    }
   ],
   "source": [
    "expression"
   ]
  },
  {
   "cell_type": "code",
   "execution_count": 7,
   "id": "7bd17af5",
   "metadata": {},
   "outputs": [
    {
     "data": {
      "text/plain": [
       "0.5"
      ]
     },
     "execution_count": 7,
     "metadata": {},
     "output_type": "execute_result"
    }
   ],
   "source": [
    " 1/2"
   ]
  },
  {
   "cell_type": "code",
   "execution_count": 8,
   "id": "318bfa7d",
   "metadata": {},
   "outputs": [
    {
     "data": {
      "text/latex": [
       "$\\displaystyle \\frac{1}{2}$"
      ],
      "text/plain": [
       "1/2"
      ]
     },
     "execution_count": 8,
     "metadata": {},
     "output_type": "execute_result"
    }
   ],
   "source": [
    "smp.Rational(1,2)"
   ]
  },
  {
   "cell_type": "code",
   "execution_count": 9,
   "id": "cb76f414",
   "metadata": {},
   "outputs": [
    {
     "data": {
      "text/latex": [
       "$\\displaystyle \\sqrt[3]{x}$"
      ],
      "text/plain": [
       "x**(1/3)"
      ]
     },
     "execution_count": 9,
     "metadata": {},
     "output_type": "execute_result"
    }
   ],
   "source": [
    " x**(smp.Rational(1,3))"
   ]
  },
  {
   "cell_type": "code",
   "execution_count": 10,
   "id": "713ca150",
   "metadata": {},
   "outputs": [
    {
     "data": {
      "text/latex": [
       "$\\displaystyle \\pi$"
      ],
      "text/plain": [
       "pi"
      ]
     },
     "execution_count": 10,
     "metadata": {},
     "output_type": "execute_result"
    }
   ],
   "source": [
    "smp.pi"
   ]
  },
  {
   "cell_type": "code",
   "execution_count": 11,
   "id": "088b3eb4",
   "metadata": {},
   "outputs": [
    {
     "data": {
      "text/latex": [
       "$\\displaystyle \\infty$"
      ],
      "text/plain": [
       "oo"
      ]
     },
     "execution_count": 11,
     "metadata": {},
     "output_type": "execute_result"
    }
   ],
   "source": [
    "smp.oo"
   ]
  },
  {
   "cell_type": "code",
   "execution_count": 12,
   "id": "9d3cd340",
   "metadata": {},
   "outputs": [
    {
     "data": {
      "text/latex": [
       "$\\displaystyle e^{x}$"
      ],
      "text/plain": [
       "exp(x)"
      ]
     },
     "execution_count": 12,
     "metadata": {},
     "output_type": "execute_result"
    }
   ],
   "source": [
    "smp.exp(x)"
   ]
  },
  {
   "cell_type": "code",
   "execution_count": 13,
   "id": "4ec043e2",
   "metadata": {},
   "outputs": [
    {
     "data": {
      "text/latex": [
       "$\\displaystyle e$"
      ],
      "text/plain": [
       "E"
      ]
     },
     "execution_count": 13,
     "metadata": {},
     "output_type": "execute_result"
    }
   ],
   "source": [
    "smp.exp(1)"
   ]
  },
  {
   "cell_type": "code",
   "execution_count": 14,
   "id": "fa3720fb",
   "metadata": {},
   "outputs": [
    {
     "data": {
      "text/latex": [
       "$\\displaystyle \\sin{\\left(x \\right)}$"
      ],
      "text/plain": [
       "sin(x)"
      ]
     },
     "execution_count": 14,
     "metadata": {},
     "output_type": "execute_result"
    }
   ],
   "source": [
    "smp.sin(x)"
   ]
  },
  {
   "cell_type": "code",
   "execution_count": 15,
   "id": "e93de70f",
   "metadata": {},
   "outputs": [
    {
     "data": {
      "text/latex": [
       "$\\displaystyle \\cos{\\left(x \\right)}$"
      ],
      "text/plain": [
       "cos(x)"
      ]
     },
     "execution_count": 15,
     "metadata": {},
     "output_type": "execute_result"
    }
   ],
   "source": [
    "smp.cos(x)"
   ]
  },
  {
   "cell_type": "code",
   "execution_count": 16,
   "id": "1685cc34",
   "metadata": {},
   "outputs": [
    {
     "data": {
      "text/latex": [
       "$\\displaystyle \\tan{\\left(x \\right)}$"
      ],
      "text/plain": [
       "tan(x)"
      ]
     },
     "execution_count": 16,
     "metadata": {},
     "output_type": "execute_result"
    }
   ],
   "source": [
    "smp.tan(x)"
   ]
  },
  {
   "cell_type": "code",
   "execution_count": 17,
   "id": "ca9989c7",
   "metadata": {},
   "outputs": [
    {
     "data": {
      "text/latex": [
       "$\\displaystyle \\operatorname{asin}{\\left(x \\right)}$"
      ],
      "text/plain": [
       "asin(x)"
      ]
     },
     "execution_count": 17,
     "metadata": {},
     "output_type": "execute_result"
    }
   ],
   "source": [
    "smp.asin(x)"
   ]
  },
  {
   "cell_type": "code",
   "execution_count": 18,
   "id": "c8a99bd6",
   "metadata": {},
   "outputs": [
    {
     "data": {
      "text/latex": [
       "$\\displaystyle \\operatorname{acos}{\\left(x \\right)}$"
      ],
      "text/plain": [
       "acos(x)"
      ]
     },
     "execution_count": 18,
     "metadata": {},
     "output_type": "execute_result"
    }
   ],
   "source": [
    "smp.acos(x)"
   ]
  },
  {
   "cell_type": "code",
   "execution_count": 19,
   "id": "5879e3a3",
   "metadata": {},
   "outputs": [
    {
     "data": {
      "text/latex": [
       "$\\displaystyle \\operatorname{atan}{\\left(x \\right)}$"
      ],
      "text/plain": [
       "atan(x)"
      ]
     },
     "execution_count": 19,
     "metadata": {},
     "output_type": "execute_result"
    }
   ],
   "source": [
    "smp.atan(x)"
   ]
  },
  {
   "cell_type": "code",
   "execution_count": 20,
   "id": "89aa27b2",
   "metadata": {},
   "outputs": [
    {
     "data": {
      "text/latex": [
       "$\\displaystyle \\log{\\left(x \\right)}$"
      ],
      "text/plain": [
       "log(x)"
      ]
     },
     "execution_count": 20,
     "metadata": {},
     "output_type": "execute_result"
    }
   ],
   "source": [
    "smp.log(x)"
   ]
  },
  {
   "cell_type": "code",
   "execution_count": 21,
   "id": "2cece96f",
   "metadata": {},
   "outputs": [
    {
     "data": {
      "text/latex": [
       "$\\displaystyle \\frac{\\log{\\left(x \\right)}}{\\log{\\left(10 \\right)}}$"
      ],
      "text/plain": [
       "log(x)/log(10)"
      ]
     },
     "execution_count": 21,
     "metadata": {},
     "output_type": "execute_result"
    }
   ],
   "source": [
    "smp.log(x,10)"
   ]
  },
  {
   "cell_type": "markdown",
   "id": "2d367620",
   "metadata": {},
   "source": [
    "#### Numerical Expressions"
   ]
  },
  {
   "cell_type": "code",
   "execution_count": 22,
   "id": "a423129e",
   "metadata": {},
   "outputs": [
    {
     "data": {
      "text/latex": [
       "$\\displaystyle \\sqrt{2} \\pi$"
      ],
      "text/plain": [
       "sqrt(2)*pi"
      ]
     },
     "execution_count": 22,
     "metadata": {},
     "output_type": "execute_result"
    }
   ],
   "source": [
    "smp.sqrt(2)*smp.pi"
   ]
  },
  {
   "cell_type": "code",
   "execution_count": 23,
   "id": "7f7093bf",
   "metadata": {},
   "outputs": [
    {
     "data": {
      "text/latex": [
       "$\\displaystyle 4.44288293815837$"
      ],
      "text/plain": [
       "4.44288293815837"
      ]
     },
     "execution_count": 23,
     "metadata": {},
     "output_type": "execute_result"
    }
   ],
   "source": [
    "(smp.sqrt(2)*smp.pi).evalf()"
   ]
  },
  {
   "cell_type": "code",
   "execution_count": 24,
   "id": "a96f82fb",
   "metadata": {},
   "outputs": [
    {
     "data": {
      "text/latex": [
       "$\\displaystyle 4.4$"
      ],
      "text/plain": [
       "4.4"
      ]
     },
     "execution_count": 24,
     "metadata": {},
     "output_type": "execute_result"
    }
   ],
   "source": [
    "(smp.sqrt(2)*smp.pi).evalf(2)"
   ]
  },
  {
   "cell_type": "code",
   "execution_count": 25,
   "id": "dfceb880",
   "metadata": {},
   "outputs": [
    {
     "data": {
      "text/latex": [
       "$\\displaystyle \\pi$"
      ],
      "text/plain": [
       "pi"
      ]
     },
     "execution_count": 25,
     "metadata": {},
     "output_type": "execute_result"
    }
   ],
   "source": [
    "smp.pi"
   ]
  },
  {
   "cell_type": "code",
   "execution_count": 26,
   "id": "2637400d",
   "metadata": {},
   "outputs": [
    {
     "data": {
      "text/latex": [
       "$\\displaystyle 3.14159265358979$"
      ],
      "text/plain": [
       "3.14159265358979"
      ]
     },
     "execution_count": 26,
     "metadata": {},
     "output_type": "execute_result"
    }
   ],
   "source": [
    "smp.Float(smp.pi)"
   ]
  },
  {
   "cell_type": "code",
   "execution_count": 27,
   "id": "4f0cf108",
   "metadata": {},
   "outputs": [
    {
     "data": {
      "text/latex": [
       "$\\displaystyle 3.1$"
      ],
      "text/plain": [
       "3.1"
      ]
     },
     "execution_count": 27,
     "metadata": {},
     "output_type": "execute_result"
    }
   ],
   "source": [
    "smp.Float(smp.pi, 2)"
   ]
  },
  {
   "cell_type": "code",
   "execution_count": 28,
   "id": "7955ea1a",
   "metadata": {},
   "outputs": [
    {
     "data": {
      "text/latex": [
       "$\\displaystyle 3.1$"
      ],
      "text/plain": [
       "3.1"
      ]
     },
     "execution_count": 28,
     "metadata": {},
     "output_type": "execute_result"
    }
   ],
   "source": [
    "smp.N(smp.pi, 2)"
   ]
  },
  {
   "cell_type": "markdown",
   "id": "0a6ff29c",
   "metadata": {},
   "source": [
    "#### Algebraic Expression "
   ]
  },
  {
   "cell_type": "code",
   "execution_count": 29,
   "id": "8127fda4",
   "metadata": {},
   "outputs": [
    {
     "data": {
      "text/latex": [
       "$\\displaystyle \\left(x + 1\\right)^{2}$"
      ],
      "text/plain": [
       "(x + 1)**2"
      ]
     },
     "execution_count": 29,
     "metadata": {},
     "output_type": "execute_result"
    }
   ],
   "source": [
    "expr0 = (x + 1)**2\n",
    "\n",
    "expr0"
   ]
  },
  {
   "cell_type": "code",
   "execution_count": 30,
   "id": "0e851556",
   "metadata": {},
   "outputs": [
    {
     "data": {
      "text/latex": [
       "$\\displaystyle x^{2} + 2 x + 1$"
      ],
      "text/plain": [
       "x**2 + 2*x + 1"
      ]
     },
     "execution_count": 30,
     "metadata": {},
     "output_type": "execute_result"
    }
   ],
   "source": [
    "smp.expand(expr0)"
   ]
  },
  {
   "cell_type": "code",
   "execution_count": 31,
   "id": "e5068390",
   "metadata": {},
   "outputs": [
    {
     "data": {
      "text/latex": [
       "$\\displaystyle x^{3} + x^{2} - x - 1$"
      ],
      "text/plain": [
       "x**3 + x**2 - x - 1"
      ]
     },
     "execution_count": 31,
     "metadata": {},
     "output_type": "execute_result"
    }
   ],
   "source": [
    "expr1 = (x**3 + x**2 - x - 1)\n",
    "\n",
    "expr1"
   ]
  },
  {
   "cell_type": "code",
   "execution_count": 32,
   "id": "7a7eec0e",
   "metadata": {},
   "outputs": [
    {
     "data": {
      "text/latex": [
       "$\\displaystyle \\left(x - 1\\right) \\left(x + 1\\right)^{2}$"
      ],
      "text/plain": [
       "(x - 1)*(x + 1)**2"
      ]
     },
     "execution_count": 32,
     "metadata": {},
     "output_type": "execute_result"
    }
   ],
   "source": [
    "smp.factor(expr1)"
   ]
  },
  {
   "cell_type": "code",
   "execution_count": 33,
   "id": "58a35117",
   "metadata": {},
   "outputs": [
    {
     "data": {
      "text/latex": [
       "$\\displaystyle \\frac{x^{3} + x^{2} - x - 1}{x^{2} + 2 x + 1}$"
      ],
      "text/plain": [
       "(x**3 + x**2 - x - 1)/(x**2 + 2*x + 1)"
      ]
     },
     "execution_count": 33,
     "metadata": {},
     "output_type": "execute_result"
    }
   ],
   "source": [
    "expr2 = (x**3 + x**2 - x - 1)/(x**2 + 2*x + 1)\n",
    "\n",
    "expr2"
   ]
  },
  {
   "cell_type": "code",
   "execution_count": 34,
   "id": "3e1a81fa",
   "metadata": {},
   "outputs": [
    {
     "data": {
      "text/latex": [
       "$\\displaystyle x - 1$"
      ],
      "text/plain": [
       "x - 1"
      ]
     },
     "execution_count": 34,
     "metadata": {},
     "output_type": "execute_result"
    }
   ],
   "source": [
    "smp.factor(expr2)"
   ]
  },
  {
   "cell_type": "code",
   "execution_count": 35,
   "id": "de8c88b8",
   "metadata": {},
   "outputs": [
    {
     "data": {
      "text/latex": [
       "$\\displaystyle x y^{2} + 4 x y z + 2 x y + y^{3} + 4 y^{2} z$"
      ],
      "text/plain": [
       "x*y**2 + 4*x*y*z + 2*x*y + y**3 + 4*y**2*z"
      ]
     },
     "execution_count": 35,
     "metadata": {},
     "output_type": "execute_result"
    }
   ],
   "source": [
    "z = smp.symbols('z')\n",
    "\n",
    "expr3 =y**2*x + 4*x*y*z + 4*y**2*z+y**3+2*x*y \n",
    "\n",
    "expr3"
   ]
  },
  {
   "cell_type": "code",
   "execution_count": 36,
   "id": "a3aa65ed",
   "metadata": {},
   "outputs": [
    {
     "data": {
      "text/latex": [
       "$\\displaystyle y^{3} + y^{2} \\left(x + 4 z\\right) + y \\left(4 x z + 2 x\\right)$"
      ],
      "text/plain": [
       "y**3 + y**2*(x + 4*z) + y*(4*x*z + 2*x)"
      ]
     },
     "execution_count": 36,
     "metadata": {},
     "output_type": "execute_result"
    }
   ],
   "source": [
    "smp.collect(expr3, y)"
   ]
  },
  {
   "cell_type": "code",
   "execution_count": 37,
   "id": "a8b8f709",
   "metadata": {},
   "outputs": [
    {
     "data": {
      "text/latex": [
       "$\\displaystyle x^{a} x^{b}$"
      ],
      "text/plain": [
       "x**a*x**b"
      ]
     },
     "execution_count": 37,
     "metadata": {},
     "output_type": "execute_result"
    }
   ],
   "source": [
    "a, b = smp.symbols('a, b ')\n",
    "\n",
    "expr_pow = x**a*x**b\n",
    "\n",
    "expr_pow"
   ]
  },
  {
   "cell_type": "code",
   "execution_count": 38,
   "id": "f15f4cb6",
   "metadata": {},
   "outputs": [
    {
     "data": {
      "text/latex": [
       "$\\displaystyle x^{a + b}$"
      ],
      "text/plain": [
       "x**(a + b)"
      ]
     },
     "execution_count": 38,
     "metadata": {},
     "output_type": "execute_result"
    }
   ],
   "source": [
    "smp.powsimp(expr_pow)"
   ]
  },
  {
   "cell_type": "code",
   "execution_count": 39,
   "id": "c7c9df4d",
   "metadata": {},
   "outputs": [
    {
     "data": {
      "text/latex": [
       "$\\displaystyle \\log{\\left(x y \\right)}$"
      ],
      "text/plain": [
       "log(x*y)"
      ]
     },
     "execution_count": 39,
     "metadata": {},
     "output_type": "execute_result"
    }
   ],
   "source": [
    "smp.log(x*y)"
   ]
  },
  {
   "cell_type": "code",
   "execution_count": 40,
   "id": "f3e25271",
   "metadata": {},
   "outputs": [
    {
     "data": {
      "text/latex": [
       "$\\displaystyle \\log{\\left(x y \\right)}$"
      ],
      "text/plain": [
       "log(x*y)"
      ]
     },
     "execution_count": 40,
     "metadata": {},
     "output_type": "execute_result"
    }
   ],
   "source": [
    "smp.expand_log(smp.log(x*y))"
   ]
  },
  {
   "cell_type": "code",
   "execution_count": 41,
   "id": "5e50c219",
   "metadata": {},
   "outputs": [
    {
     "data": {
      "text/latex": [
       "$\\displaystyle \\log{\\left(x \\right)} + \\log{\\left(y \\right)}$"
      ],
      "text/plain": [
       "log(x) + log(y)"
      ]
     },
     "execution_count": 41,
     "metadata": {},
     "output_type": "execute_result"
    }
   ],
   "source": [
    "smp.expand_log(smp.log(x*y), force=True)"
   ]
  },
  {
   "cell_type": "code",
   "execution_count": 42,
   "id": "6caca780",
   "metadata": {},
   "outputs": [
    {
     "data": {
      "text/latex": [
       "$\\displaystyle a \\log{\\left(x \\right)} + \\log{\\left(y \\right)} - \\log{\\left(z \\right)}$"
      ],
      "text/plain": [
       "a*log(x) + log(y) - log(z)"
      ]
     },
     "execution_count": 42,
     "metadata": {},
     "output_type": "execute_result"
    }
   ],
   "source": [
    "a*smp.log(x) + smp.log(y) - smp.log(z)"
   ]
  },
  {
   "cell_type": "code",
   "execution_count": 43,
   "id": "252743a4",
   "metadata": {},
   "outputs": [
    {
     "data": {
      "text/latex": [
       "$\\displaystyle a \\log{\\left(x \\right)} + \\log{\\left(y \\right)} - \\log{\\left(z \\right)}$"
      ],
      "text/plain": [
       "a*log(x) + log(y) - log(z)"
      ]
     },
     "execution_count": 43,
     "metadata": {},
     "output_type": "execute_result"
    }
   ],
   "source": [
    "smp.logcombine(a*smp.log(x) + smp.log(y) - smp.log(z))"
   ]
  },
  {
   "cell_type": "code",
   "execution_count": 44,
   "id": "ebcb4acd",
   "metadata": {},
   "outputs": [
    {
     "data": {
      "text/latex": [
       "$\\displaystyle \\log{\\left(\\frac{x^{a} y}{z} \\right)}$"
      ],
      "text/plain": [
       "log(x**a*y/z)"
      ]
     },
     "execution_count": 44,
     "metadata": {},
     "output_type": "execute_result"
    }
   ],
   "source": [
    "smp.logcombine(a*smp.log(x) + smp.log(y) - smp.log(z), force=True)"
   ]
  },
  {
   "cell_type": "markdown",
   "id": "41759677",
   "metadata": {},
   "source": [
    "#### Trigonometric Expressions"
   ]
  },
  {
   "cell_type": "code",
   "execution_count": 45,
   "id": "8d6f8bc1",
   "metadata": {},
   "outputs": [
    {
     "data": {
      "text/latex": [
       "$\\displaystyle \\sin^{2}{\\left(x \\right)} + \\cos^{2}{\\left(x \\right)}$"
      ],
      "text/plain": [
       "sin(x)**2 + cos(x)**2"
      ]
     },
     "execution_count": 45,
     "metadata": {},
     "output_type": "execute_result"
    }
   ],
   "source": [
    "expr_trig = smp.sin(x)**2 + smp.cos(x)**2\n",
    "\n",
    "expr_trig"
   ]
  },
  {
   "cell_type": "code",
   "execution_count": 46,
   "id": "6dc8a661",
   "metadata": {},
   "outputs": [
    {
     "data": {
      "text/latex": [
       "$\\displaystyle 1$"
      ],
      "text/plain": [
       "1"
      ]
     },
     "execution_count": 46,
     "metadata": {},
     "output_type": "execute_result"
    }
   ],
   "source": [
    "smp.trigsimp(expr_trig)"
   ]
  },
  {
   "cell_type": "markdown",
   "id": "cbc6cc7b",
   "metadata": {},
   "source": [
    "#### Other"
   ]
  },
  {
   "cell_type": "code",
   "execution_count": 47,
   "id": "58cedef9",
   "metadata": {},
   "outputs": [
    {
     "data": {
      "text/latex": [
       "$\\displaystyle n!$"
      ],
      "text/plain": [
       "factorial(n)"
      ]
     },
     "execution_count": 47,
     "metadata": {},
     "output_type": "execute_result"
    }
   ],
   "source": [
    "n, k = smp.symbols('n, k')\n",
    "\n",
    "smp.factorial(n)"
   ]
  },
  {
   "cell_type": "code",
   "execution_count": 48,
   "id": "e8eb3471",
   "metadata": {},
   "outputs": [
    {
     "data": {
      "text/latex": [
       "$\\displaystyle \\frac{x!}{\\left(x - 3\\right)!}$"
      ],
      "text/plain": [
       "factorial(x)/factorial(x - 3)"
      ]
     },
     "execution_count": 48,
     "metadata": {},
     "output_type": "execute_result"
    }
   ],
   "source": [
    "expr = smp.factorial(x)/smp.factorial(x - 3) \n",
    "\n",
    "expr"
   ]
  },
  {
   "cell_type": "code",
   "execution_count": 49,
   "id": "e46ae880",
   "metadata": {},
   "outputs": [
    {
     "data": {
      "text/latex": [
       "$\\displaystyle x \\left(x - 2\\right) \\left(x - 1\\right)$"
      ],
      "text/plain": [
       "x*(x - 2)*(x - 1)"
      ]
     },
     "execution_count": 49,
     "metadata": {},
     "output_type": "execute_result"
    }
   ],
   "source": [
    "smp.combsimp(expr)"
   ]
  },
  {
   "cell_type": "code",
   "execution_count": 50,
   "id": "847787db",
   "metadata": {},
   "outputs": [
    {
     "data": {
      "text/latex": [
       "$\\displaystyle {\\binom{n}{k}}$"
      ],
      "text/plain": [
       "binomial(n, k)"
      ]
     },
     "execution_count": 50,
     "metadata": {},
     "output_type": "execute_result"
    }
   ],
   "source": [
    "smp.binomial(n, k)"
   ]
  },
  {
   "cell_type": "code",
   "execution_count": 51,
   "id": "35c2f6ed",
   "metadata": {},
   "outputs": [
    {
     "data": {
      "text/latex": [
       "$\\displaystyle \\frac{{\\binom{x + 1}{y + 1}}}{{\\binom{x}{y}}}$"
      ],
      "text/plain": [
       "binomial(x + 1, y + 1)/binomial(x, y)"
      ]
     },
     "execution_count": 51,
     "metadata": {},
     "output_type": "execute_result"
    }
   ],
   "source": [
    "smp.binomial(x+1, y+1)/smp.binomial(x, y)"
   ]
  },
  {
   "cell_type": "code",
   "execution_count": 52,
   "id": "789cbcb3",
   "metadata": {},
   "outputs": [
    {
     "data": {
      "text/latex": [
       "$\\displaystyle \\frac{x + 1}{y + 1}$"
      ],
      "text/plain": [
       "(x + 1)/(y + 1)"
      ]
     },
     "execution_count": 52,
     "metadata": {},
     "output_type": "execute_result"
    }
   ],
   "source": [
    "smp.combsimp(smp.binomial(x+1, y+1)/smp.binomial(x, y))"
   ]
  },
  {
   "cell_type": "markdown",
   "id": "6cfda75d",
   "metadata": {},
   "source": [
    "#### Algebraic Equations"
   ]
  },
  {
   "cell_type": "code",
   "execution_count": 53,
   "id": "b7b4f9eb",
   "metadata": {},
   "outputs": [],
   "source": [
    "x = smp.symbols('x')"
   ]
  },
  {
   "cell_type": "code",
   "execution_count": 54,
   "id": "11ca7e59",
   "metadata": {},
   "outputs": [
    {
     "data": {
      "text/latex": [
       "$\\displaystyle x^{2} - 3 x + 2 = 0$"
      ],
      "text/plain": [
       "Eq(x**2 - 3*x + 2, 0)"
      ]
     },
     "execution_count": 54,
     "metadata": {},
     "output_type": "execute_result"
    }
   ],
   "source": [
    "eq0 = smp.Eq(x**2 - 3*x + 2, 0)\n",
    "\n",
    "eq0"
   ]
  },
  {
   "cell_type": "code",
   "execution_count": 55,
   "id": "1eac44f0",
   "metadata": {},
   "outputs": [
    {
     "data": {
      "text/plain": [
       "[1, 2]"
      ]
     },
     "execution_count": 55,
     "metadata": {},
     "output_type": "execute_result"
    }
   ],
   "source": [
    "solution0 = smp.solve(eq0, x)\n",
    "\n",
    "solution0"
   ]
  },
  {
   "cell_type": "code",
   "execution_count": 56,
   "id": "d5cf5252",
   "metadata": {},
   "outputs": [
    {
     "data": {
      "text/latex": [
       "$\\displaystyle x^{2} + 4 x + 5 = 0$"
      ],
      "text/plain": [
       "Eq(x**2 + 4*x + 5, 0)"
      ]
     },
     "execution_count": 56,
     "metadata": {},
     "output_type": "execute_result"
    }
   ],
   "source": [
    "eq1 = smp.Eq(x**2 + 4*x + 5, 0)\n",
    "\n",
    "eq1"
   ]
  },
  {
   "cell_type": "code",
   "execution_count": 57,
   "id": "15956815",
   "metadata": {},
   "outputs": [
    {
     "data": {
      "text/plain": [
       "[-2 - I, -2 + I]"
      ]
     },
     "execution_count": 57,
     "metadata": {},
     "output_type": "execute_result"
    }
   ],
   "source": [
    "solution1 = smp.solve(eq1, x)\n",
    "\n",
    "solution1"
   ]
  },
  {
   "cell_type": "code",
   "execution_count": 58,
   "id": "fedadf6d",
   "metadata": {},
   "outputs": [
    {
     "data": {
      "text/latex": [
       "$\\displaystyle x^{3} - 2 x^{2} - 5 x + 6 = 0$"
      ],
      "text/plain": [
       "Eq(x**3 - 2*x**2 - 5*x + 6, 0)"
      ]
     },
     "execution_count": 58,
     "metadata": {},
     "output_type": "execute_result"
    }
   ],
   "source": [
    "eq2 = smp.Eq(x**3 - 2*x**2 - 5*x + 6, 0)\n",
    "\n",
    "eq2"
   ]
  },
  {
   "cell_type": "code",
   "execution_count": 59,
   "id": "fc3db665",
   "metadata": {},
   "outputs": [
    {
     "data": {
      "text/plain": [
       "[-2, 1, 3]"
      ]
     },
     "execution_count": 59,
     "metadata": {},
     "output_type": "execute_result"
    }
   ],
   "source": [
    "solution2 = smp.solve(eq2, x)\n",
    "\n",
    "solution2"
   ]
  },
  {
   "cell_type": "code",
   "execution_count": 60,
   "id": "d57c87d4",
   "metadata": {},
   "outputs": [
    {
     "data": {
      "text/latex": [
       "$\\displaystyle x^{3} - 8 = 0$"
      ],
      "text/plain": [
       "Eq(x**3 - 8, 0)"
      ]
     },
     "execution_count": 60,
     "metadata": {},
     "output_type": "execute_result"
    }
   ],
   "source": [
    "eq3 = smp.Eq(x**3 - 8, 0)\n",
    "\n",
    "eq3"
   ]
  },
  {
   "cell_type": "code",
   "execution_count": 61,
   "id": "9f27db86",
   "metadata": {},
   "outputs": [
    {
     "data": {
      "text/plain": [
       "[2, -1 - sqrt(3)*I, -1 + sqrt(3)*I]"
      ]
     },
     "execution_count": 61,
     "metadata": {},
     "output_type": "execute_result"
    }
   ],
   "source": [
    "solution3 = smp.solve(eq3, x)\n",
    "\n",
    "solution3"
   ]
  },
  {
   "cell_type": "markdown",
   "id": "de5045ac",
   "metadata": {},
   "source": [
    "### Symbolic Equations"
   ]
  },
  {
   "cell_type": "code",
   "execution_count": 62,
   "id": "eb263a9d",
   "metadata": {},
   "outputs": [],
   "source": [
    "a, b, c = smp.symbols('a b c')"
   ]
  },
  {
   "cell_type": "code",
   "execution_count": 63,
   "id": "3575a0db",
   "metadata": {},
   "outputs": [
    {
     "data": {
      "text/latex": [
       "$\\displaystyle a x^{2} + b x + c = 0$"
      ],
      "text/plain": [
       "Eq(a*x**2 + b*x + c, 0)"
      ]
     },
     "execution_count": 63,
     "metadata": {},
     "output_type": "execute_result"
    }
   ],
   "source": [
    "eq4 = smp.Eq(a*x**2 + b*x + c, 0)\n",
    "\n",
    "eq4"
   ]
  },
  {
   "cell_type": "code",
   "execution_count": 64,
   "id": "6d4517d7",
   "metadata": {},
   "outputs": [
    {
     "data": {
      "text/plain": [
       "[(-b - sqrt(-4*a*c + b**2))/(2*a), (-b + sqrt(-4*a*c + b**2))/(2*a)]"
      ]
     },
     "execution_count": 64,
     "metadata": {},
     "output_type": "execute_result"
    }
   ],
   "source": [
    "solution4 = smp.solve(eq4, x)\n",
    "\n",
    "solution4"
   ]
  },
  {
   "cell_type": "code",
   "execution_count": 65,
   "id": "e7ba64d3",
   "metadata": {},
   "outputs": [],
   "source": [
    "a_0, a_1, a_2, a_3 = smp.symbols('a_0, a_1, a_2, a_3')"
   ]
  },
  {
   "cell_type": "code",
   "execution_count": 66,
   "id": "808fb584",
   "metadata": {},
   "outputs": [
    {
     "data": {
      "text/latex": [
       "$\\displaystyle a_{0} x^{3} + a_{1} x^{2} + a_{2} x + a_{3} = 0$"
      ],
      "text/plain": [
       "Eq(a_0*x**3 + a_1*x**2 + a_2*x + a_3, 0)"
      ]
     },
     "execution_count": 66,
     "metadata": {},
     "output_type": "execute_result"
    }
   ],
   "source": [
    "eq5 = smp.Eq(a_0*x**3 + a_1*x**2 + a_2*x + a_3, 0)\n",
    "\n",
    "eq5"
   ]
  },
  {
   "cell_type": "code",
   "execution_count": 67,
   "id": "2fda8812",
   "metadata": {},
   "outputs": [
    {
     "data": {
      "text/plain": [
       "[-(-3*a_2/a_0 + a_1**2/a_0**2)/(3*(sqrt(-4*(-3*a_2/a_0 + a_1**2/a_0**2)**3 + (27*a_3/a_0 - 9*a_1*a_2/a_0**2 + 2*a_1**3/a_0**3)**2)/2 + 27*a_3/(2*a_0) - 9*a_1*a_2/(2*a_0**2) + a_1**3/a_0**3)**(1/3)) - (sqrt(-4*(-3*a_2/a_0 + a_1**2/a_0**2)**3 + (27*a_3/a_0 - 9*a_1*a_2/a_0**2 + 2*a_1**3/a_0**3)**2)/2 + 27*a_3/(2*a_0) - 9*a_1*a_2/(2*a_0**2) + a_1**3/a_0**3)**(1/3)/3 - a_1/(3*a_0),\n",
       " -(-3*a_2/a_0 + a_1**2/a_0**2)/(3*(-1/2 - sqrt(3)*I/2)*(sqrt(-4*(-3*a_2/a_0 + a_1**2/a_0**2)**3 + (27*a_3/a_0 - 9*a_1*a_2/a_0**2 + 2*a_1**3/a_0**3)**2)/2 + 27*a_3/(2*a_0) - 9*a_1*a_2/(2*a_0**2) + a_1**3/a_0**3)**(1/3)) - (-1/2 - sqrt(3)*I/2)*(sqrt(-4*(-3*a_2/a_0 + a_1**2/a_0**2)**3 + (27*a_3/a_0 - 9*a_1*a_2/a_0**2 + 2*a_1**3/a_0**3)**2)/2 + 27*a_3/(2*a_0) - 9*a_1*a_2/(2*a_0**2) + a_1**3/a_0**3)**(1/3)/3 - a_1/(3*a_0),\n",
       " -(-3*a_2/a_0 + a_1**2/a_0**2)/(3*(-1/2 + sqrt(3)*I/2)*(sqrt(-4*(-3*a_2/a_0 + a_1**2/a_0**2)**3 + (27*a_3/a_0 - 9*a_1*a_2/a_0**2 + 2*a_1**3/a_0**3)**2)/2 + 27*a_3/(2*a_0) - 9*a_1*a_2/(2*a_0**2) + a_1**3/a_0**3)**(1/3)) - (-1/2 + sqrt(3)*I/2)*(sqrt(-4*(-3*a_2/a_0 + a_1**2/a_0**2)**3 + (27*a_3/a_0 - 9*a_1*a_2/a_0**2 + 2*a_1**3/a_0**3)**2)/2 + 27*a_3/(2*a_0) - 9*a_1*a_2/(2*a_0**2) + a_1**3/a_0**3)**(1/3)/3 - a_1/(3*a_0)]"
      ]
     },
     "execution_count": 67,
     "metadata": {},
     "output_type": "execute_result"
    }
   ],
   "source": [
    "solution5 = smp.solve(eq5, x)\n",
    "\n",
    "solution5"
   ]
  },
  {
   "cell_type": "markdown",
   "id": "1c500b95",
   "metadata": {},
   "source": [
    "### Systems of Equations"
   ]
  },
  {
   "cell_type": "code",
   "execution_count": 68,
   "id": "ee7ace21",
   "metadata": {},
   "outputs": [],
   "source": [
    "eq100 = smp.Eq(5*x+5*y-7, 0)\n",
    "eq200 = smp.Eq(6*x-4*y-9, 0)"
   ]
  },
  {
   "cell_type": "code",
   "execution_count": 69,
   "id": "f6135ef1",
   "metadata": {},
   "outputs": [
    {
     "name": "stdout",
     "output_type": "stream",
     "text": [
      "Eq(5*x + 5*y - 7, 0)\n",
      "Eq(6*x - 4*y - 9, 0)\n"
     ]
    }
   ],
   "source": [
    "print(eq100)\n",
    "print(eq200)"
   ]
  },
  {
   "cell_type": "code",
   "execution_count": 70,
   "id": "470a2499",
   "metadata": {},
   "outputs": [
    {
     "data": {
      "text/latex": [
       "$\\displaystyle 5 x + 5 y - 7 = 0$"
      ],
      "text/plain": [
       "Eq(5*x + 5*y - 7, 0)"
      ]
     },
     "execution_count": 70,
     "metadata": {},
     "output_type": "execute_result"
    }
   ],
   "source": [
    "eq100"
   ]
  },
  {
   "cell_type": "code",
   "execution_count": 71,
   "id": "cf207bad",
   "metadata": {},
   "outputs": [
    {
     "data": {
      "text/latex": [
       "$\\displaystyle 6 x - 4 y - 9 = 0$"
      ],
      "text/plain": [
       "Eq(6*x - 4*y - 9, 0)"
      ]
     },
     "execution_count": 71,
     "metadata": {},
     "output_type": "execute_result"
    }
   ],
   "source": [
    "eq200"
   ]
  },
  {
   "cell_type": "code",
   "execution_count": 72,
   "id": "5a2a512e",
   "metadata": {},
   "outputs": [
    {
     "data": {
      "text/plain": [
       "{x: 73/50, y: -3/50}"
      ]
     },
     "execution_count": 72,
     "metadata": {},
     "output_type": "execute_result"
    }
   ],
   "source": [
    "solution = smp.solve((eq100, eq200), (x, y))\n",
    "\n",
    "solution"
   ]
  },
  {
   "cell_type": "code",
   "execution_count": 73,
   "id": "f5bd7b4b",
   "metadata": {},
   "outputs": [
    {
     "data": {
      "text/latex": [
       "$\\displaystyle \\frac{73}{50}$"
      ],
      "text/plain": [
       "73/50"
      ]
     },
     "execution_count": 73,
     "metadata": {},
     "output_type": "execute_result"
    }
   ],
   "source": [
    "solution[x]"
   ]
  },
  {
   "cell_type": "code",
   "execution_count": 74,
   "id": "a4e33679",
   "metadata": {},
   "outputs": [
    {
     "data": {
      "text/latex": [
       "$\\displaystyle - \\frac{3}{50}$"
      ],
      "text/plain": [
       "-3/50"
      ]
     },
     "execution_count": 74,
     "metadata": {},
     "output_type": "execute_result"
    }
   ],
   "source": [
    "solution[y]"
   ]
  },
  {
   "cell_type": "code",
   "execution_count": 75,
   "id": "836bb851",
   "metadata": {},
   "outputs": [],
   "source": [
    "eq300 = smp.Eq(x**2 + y, 0)\n",
    "eq400 = smp.Eq(x - y,0)"
   ]
  },
  {
   "cell_type": "code",
   "execution_count": 76,
   "id": "a8ca2c3a",
   "metadata": {},
   "outputs": [
    {
     "data": {
      "text/plain": [
       "[{x: -1, y: -1}, {x: 0, y: 0}]"
      ]
     },
     "execution_count": 76,
     "metadata": {},
     "output_type": "execute_result"
    }
   ],
   "source": [
    "solution = smp.solve((eq300, eq400), (x, y), dict=True)\n",
    "\n",
    "solution"
   ]
  },
  {
   "cell_type": "code",
   "execution_count": 77,
   "id": "45e35022",
   "metadata": {},
   "outputs": [
    {
     "data": {
      "text/latex": [
       "$\\displaystyle -1$"
      ],
      "text/plain": [
       "-1"
      ]
     },
     "execution_count": 77,
     "metadata": {},
     "output_type": "execute_result"
    }
   ],
   "source": [
    "solution[0][x]"
   ]
  },
  {
   "cell_type": "code",
   "execution_count": 78,
   "id": "8b217cd0",
   "metadata": {},
   "outputs": [
    {
     "data": {
      "text/latex": [
       "$\\displaystyle -1$"
      ],
      "text/plain": [
       "-1"
      ]
     },
     "execution_count": 78,
     "metadata": {},
     "output_type": "execute_result"
    }
   ],
   "source": [
    "solution[0][y]"
   ]
  },
  {
   "cell_type": "code",
   "execution_count": 79,
   "id": "91949e03",
   "metadata": {},
   "outputs": [
    {
     "data": {
      "text/latex": [
       "$\\displaystyle 0$"
      ],
      "text/plain": [
       "0"
      ]
     },
     "execution_count": 79,
     "metadata": {},
     "output_type": "execute_result"
    }
   ],
   "source": [
    "solution[1][x]"
   ]
  },
  {
   "cell_type": "code",
   "execution_count": 80,
   "id": "706e5e38",
   "metadata": {},
   "outputs": [
    {
     "data": {
      "text/latex": [
       "$\\displaystyle 0$"
      ],
      "text/plain": [
       "0"
      ]
     },
     "execution_count": 80,
     "metadata": {},
     "output_type": "execute_result"
    }
   ],
   "source": [
    "solution[1][y]"
   ]
  },
  {
   "cell_type": "code",
   "execution_count": 81,
   "id": "21d9f8bb",
   "metadata": {},
   "outputs": [
    {
     "data": {
      "text/plain": [
       "list"
      ]
     },
     "execution_count": 81,
     "metadata": {},
     "output_type": "execute_result"
    }
   ],
   "source": [
    "type(solution)"
   ]
  },
  {
   "cell_type": "code",
   "execution_count": 82,
   "id": "8fe7bf2a",
   "metadata": {},
   "outputs": [
    {
     "data": {
      "text/plain": [
       "dict"
      ]
     },
     "execution_count": 82,
     "metadata": {},
     "output_type": "execute_result"
    }
   ],
   "source": [
    "type(solution[1])"
   ]
  },
  {
   "cell_type": "markdown",
   "id": "a4d1ed02",
   "metadata": {},
   "source": [
    "### Matrices "
   ]
  },
  {
   "cell_type": "code",
   "execution_count": 83,
   "id": "683a5157",
   "metadata": {},
   "outputs": [],
   "source": [
    "x, y, z, u1, u2, u3, v1, v2, v3, t = smp.symbols('x y z u_1 u_2 u_3 v_1 v_2 v_3 t')"
   ]
  },
  {
   "cell_type": "code",
   "execution_count": 84,
   "id": "d17fac6a",
   "metadata": {},
   "outputs": [
    {
     "data": {
      "text/latex": [
       "$\\displaystyle \\left[\\begin{matrix}1 & 1\\\\1 & 2\\end{matrix}\\right]$"
      ],
      "text/plain": [
       "Matrix([\n",
       "[1, 1],\n",
       "[1, 2]])"
      ]
     },
     "execution_count": 84,
     "metadata": {},
     "output_type": "execute_result"
    }
   ],
   "source": [
    "M2x2 = smp.Matrix([[1, 1], [1, 2]])\n",
    "\n",
    "M2x2"
   ]
  },
  {
   "cell_type": "code",
   "execution_count": 85,
   "id": "a54bc0da",
   "metadata": {},
   "outputs": [
    {
     "data": {
      "text/latex": [
       "$\\displaystyle \\left[\\begin{matrix}1 & 1\\\\1 & 2\\\\3 & 1\\end{matrix}\\right]$"
      ],
      "text/plain": [
       "Matrix([\n",
       "[1, 1],\n",
       "[1, 2],\n",
       "[3, 1]])"
      ]
     },
     "execution_count": 85,
     "metadata": {},
     "output_type": "execute_result"
    }
   ],
   "source": [
    "M3x2 = smp.Matrix([[1, 1], [1, 2], [3, 1]])\n",
    "\n",
    "M3x2"
   ]
  },
  {
   "cell_type": "code",
   "execution_count": 86,
   "id": "d3900d11",
   "metadata": {},
   "outputs": [
    {
     "data": {
      "text/latex": [
       "$\\displaystyle \\left[\\begin{matrix}1 & 1 & 2\\\\1 & 2 & 3\\end{matrix}\\right]$"
      ],
      "text/plain": [
       "Matrix([\n",
       "[1, 1, 2],\n",
       "[1, 2, 3]])"
      ]
     },
     "execution_count": 86,
     "metadata": {},
     "output_type": "execute_result"
    }
   ],
   "source": [
    "M2x3 = smp.Matrix([[1, 1, 2], [1, 2, 3]])\n",
    "\n",
    "M2x3"
   ]
  },
  {
   "cell_type": "code",
   "execution_count": 87,
   "id": "808be755",
   "metadata": {},
   "outputs": [
    {
     "data": {
      "text/latex": [
       "$\\displaystyle \\left[\\begin{matrix}4\\\\1\\end{matrix}\\right]$"
      ],
      "text/plain": [
       "Matrix([\n",
       "[4],\n",
       "[1]])"
      ]
     },
     "execution_count": 87,
     "metadata": {},
     "output_type": "execute_result"
    }
   ],
   "source": [
    "c = smp.Matrix([4, 1])\n",
    "\n",
    "c"
   ]
  },
  {
   "cell_type": "code",
   "execution_count": 88,
   "id": "54ccacec",
   "metadata": {},
   "outputs": [
    {
     "data": {
      "text/latex": [
       "$\\displaystyle \\left[\\begin{matrix}4 & 1\\end{matrix}\\right]$"
      ],
      "text/plain": [
       "Matrix([[4, 1]])"
      ]
     },
     "execution_count": 88,
     "metadata": {},
     "output_type": "execute_result"
    }
   ],
   "source": [
    "r = smp.Matrix([[4, 1]])\n",
    "\n",
    "r"
   ]
  },
  {
   "cell_type": "code",
   "execution_count": 89,
   "id": "0a25d288",
   "metadata": {},
   "outputs": [
    {
     "data": {
      "text/latex": [
       "$\\displaystyle \\left[\\begin{matrix}x\\\\y\\end{matrix}\\right]$"
      ],
      "text/plain": [
       "Matrix([\n",
       "[x],\n",
       "[y]])"
      ]
     },
     "execution_count": 89,
     "metadata": {},
     "output_type": "execute_result"
    }
   ],
   "source": [
    "v = smp.Matrix([x, y])\n",
    "\n",
    "v"
   ]
  },
  {
   "cell_type": "code",
   "execution_count": 90,
   "id": "fd07e830",
   "metadata": {},
   "outputs": [
    {
     "data": {
      "text/latex": [
       "$\\displaystyle \\left[\\begin{matrix}x & y & z\\end{matrix}\\right]$"
      ],
      "text/plain": [
       "Matrix([[x, y, z]])"
      ]
     },
     "execution_count": 90,
     "metadata": {},
     "output_type": "execute_result"
    }
   ],
   "source": [
    "h = smp.Matrix([[x, y, z]])\n",
    "\n",
    "h"
   ]
  },
  {
   "cell_type": "code",
   "execution_count": 91,
   "id": "004272f0",
   "metadata": {},
   "outputs": [
    {
     "data": {
      "text/latex": [
       "$\\displaystyle \\left[\\begin{matrix}1 & 0 & 0 & 0\\\\0 & 1 & 0 & 0\\\\0 & 0 & 1 & 0\\\\0 & 0 & 0 & 1\\end{matrix}\\right]$"
      ],
      "text/plain": [
       "Matrix([\n",
       "[1, 0, 0, 0],\n",
       "[0, 1, 0, 0],\n",
       "[0, 0, 1, 0],\n",
       "[0, 0, 0, 1]])"
      ]
     },
     "execution_count": 91,
     "metadata": {},
     "output_type": "execute_result"
    }
   ],
   "source": [
    "smp.eye(4)"
   ]
  },
  {
   "cell_type": "markdown",
   "id": "0b08ec89",
   "metadata": {},
   "source": [
    "### Matrix Operations"
   ]
  },
  {
   "cell_type": "code",
   "execution_count": 92,
   "id": "aade4467",
   "metadata": {},
   "outputs": [],
   "source": [
    "u = smp.Matrix([u1, u2, u3])\n",
    "v = smp.Matrix([v1, v2, v3])"
   ]
  },
  {
   "cell_type": "code",
   "execution_count": 93,
   "id": "e2f5f174",
   "metadata": {},
   "outputs": [
    {
     "data": {
      "text/latex": [
       "$\\displaystyle \\left[\\begin{matrix}u_{1}\\\\u_{2}\\\\u_{3}\\end{matrix}\\right]$"
      ],
      "text/plain": [
       "Matrix([\n",
       "[u_1],\n",
       "[u_2],\n",
       "[u_3]])"
      ]
     },
     "execution_count": 93,
     "metadata": {},
     "output_type": "execute_result"
    }
   ],
   "source": [
    "u"
   ]
  },
  {
   "cell_type": "code",
   "execution_count": 94,
   "id": "10d05c6a",
   "metadata": {},
   "outputs": [
    {
     "data": {
      "text/latex": [
       "$\\displaystyle \\left[\\begin{matrix}v_{1}\\\\v_{2}\\\\v_{3}\\end{matrix}\\right]$"
      ],
      "text/plain": [
       "Matrix([\n",
       "[v_1],\n",
       "[v_2],\n",
       "[v_3]])"
      ]
     },
     "execution_count": 94,
     "metadata": {},
     "output_type": "execute_result"
    }
   ],
   "source": [
    "v"
   ]
  },
  {
   "cell_type": "code",
   "execution_count": 95,
   "id": "4d2ae0f6",
   "metadata": {},
   "outputs": [
    {
     "data": {
      "text/latex": [
       "$\\displaystyle \\left[\\begin{matrix}3\\\\u_{2}\\\\u_{3}\\end{matrix}\\right]$"
      ],
      "text/plain": [
       "Matrix([\n",
       "[  3],\n",
       "[u_2],\n",
       "[u_3]])"
      ]
     },
     "execution_count": 95,
     "metadata": {},
     "output_type": "execute_result"
    }
   ],
   "source": [
    "u.subs([(u1, 3)])"
   ]
  },
  {
   "cell_type": "code",
   "execution_count": 96,
   "id": "835e97e4",
   "metadata": {},
   "outputs": [
    {
     "data": {
      "text/latex": [
       "$\\displaystyle \\left[\\begin{matrix}u_{1}\\\\u_{2}\\\\u_{3}\\end{matrix}\\right]$"
      ],
      "text/plain": [
       "Matrix([\n",
       "[u_1],\n",
       "[u_2],\n",
       "[u_3]])"
      ]
     },
     "execution_count": 96,
     "metadata": {},
     "output_type": "execute_result"
    }
   ],
   "source": [
    "u"
   ]
  },
  {
   "cell_type": "code",
   "execution_count": 97,
   "id": "8dcfab38",
   "metadata": {},
   "outputs": [
    {
     "data": {
      "text/latex": [
       "$\\displaystyle \\left[\\begin{matrix}1 & 2 & 1\\\\2 & 1 & 2\\\\1 & 0 & 1\\end{matrix}\\right]$"
      ],
      "text/plain": [
       "Matrix([\n",
       "[1, 2, 1],\n",
       "[2, 1, 2],\n",
       "[1, 0, 1]])"
      ]
     },
     "execution_count": 97,
     "metadata": {},
     "output_type": "execute_result"
    }
   ],
   "source": [
    "m = smp.Matrix([[1, 2, 1], [2, 1, 2], [1, 0, 1]])\n",
    "\n",
    "m"
   ]
  },
  {
   "cell_type": "code",
   "execution_count": 98,
   "id": "79463f44",
   "metadata": {},
   "outputs": [
    {
     "data": {
      "text/latex": [
       "$\\displaystyle 1$"
      ],
      "text/plain": [
       "1"
      ]
     },
     "execution_count": 98,
     "metadata": {},
     "output_type": "execute_result"
    }
   ],
   "source": [
    "m[0,0]"
   ]
  },
  {
   "cell_type": "code",
   "execution_count": 99,
   "id": "e07d35c0",
   "metadata": {},
   "outputs": [
    {
     "data": {
      "text/latex": [
       "$\\displaystyle 2$"
      ],
      "text/plain": [
       "2"
      ]
     },
     "execution_count": 99,
     "metadata": {},
     "output_type": "execute_result"
    }
   ],
   "source": [
    "m[0,1]"
   ]
  },
  {
   "cell_type": "code",
   "execution_count": 100,
   "id": "b3a42f64",
   "metadata": {},
   "outputs": [
    {
     "data": {
      "text/latex": [
       "$\\displaystyle 1$"
      ],
      "text/plain": [
       "1"
      ]
     },
     "execution_count": 100,
     "metadata": {},
     "output_type": "execute_result"
    }
   ],
   "source": [
    "m[0,2]"
   ]
  },
  {
   "cell_type": "code",
   "execution_count": 101,
   "id": "406eb5e4",
   "metadata": {},
   "outputs": [
    {
     "data": {
      "text/latex": [
       "$\\displaystyle 2$"
      ],
      "text/plain": [
       "2"
      ]
     },
     "execution_count": 101,
     "metadata": {},
     "output_type": "execute_result"
    }
   ],
   "source": [
    "m[1,0]"
   ]
  },
  {
   "cell_type": "code",
   "execution_count": 102,
   "id": "1daeeeff",
   "metadata": {},
   "outputs": [
    {
     "data": {
      "text/latex": [
       "$\\displaystyle 1$"
      ],
      "text/plain": [
       "1"
      ]
     },
     "execution_count": 102,
     "metadata": {},
     "output_type": "execute_result"
    }
   ],
   "source": [
    "m[1,1]"
   ]
  },
  {
   "cell_type": "code",
   "execution_count": 103,
   "id": "143feaab",
   "metadata": {},
   "outputs": [
    {
     "data": {
      "text/latex": [
       "$\\displaystyle 2$"
      ],
      "text/plain": [
       "2"
      ]
     },
     "execution_count": 103,
     "metadata": {},
     "output_type": "execute_result"
    }
   ],
   "source": [
    "m[1,2]"
   ]
  },
  {
   "cell_type": "code",
   "execution_count": 104,
   "id": "4855aabb",
   "metadata": {},
   "outputs": [
    {
     "data": {
      "text/plain": [
       "(3, 3)"
      ]
     },
     "execution_count": 104,
     "metadata": {},
     "output_type": "execute_result"
    }
   ],
   "source": [
    "smp.shape(m)"
   ]
  },
  {
   "cell_type": "code",
   "execution_count": 105,
   "id": "e71772cc",
   "metadata": {},
   "outputs": [
    {
     "data": {
      "text/latex": [
       "$\\displaystyle \\left[\\begin{matrix}u_{1} + v_{1}\\\\u_{2} + v_{2}\\\\u_{3} + v_{3}\\end{matrix}\\right]$"
      ],
      "text/plain": [
       "Matrix([\n",
       "[u_1 + v_1],\n",
       "[u_2 + v_2],\n",
       "[u_3 + v_3]])"
      ]
     },
     "execution_count": 105,
     "metadata": {},
     "output_type": "execute_result"
    }
   ],
   "source": [
    "u+v"
   ]
  },
  {
   "cell_type": "code",
   "execution_count": 106,
   "id": "a6423f3d",
   "metadata": {},
   "outputs": [
    {
     "data": {
      "text/latex": [
       "$\\displaystyle \\left[\\begin{matrix}1 & 1\\\\1 & 2\\\\3 & 1\\end{matrix}\\right]$"
      ],
      "text/plain": [
       "Matrix([\n",
       "[1, 1],\n",
       "[1, 2],\n",
       "[3, 1]])"
      ]
     },
     "execution_count": 106,
     "metadata": {},
     "output_type": "execute_result"
    }
   ],
   "source": [
    "M3x2 = smp.Matrix([[1, 1], [1, 2], [3, 1]])\n",
    "\n",
    "M3x2"
   ]
  },
  {
   "cell_type": "code",
   "execution_count": 107,
   "id": "d58a486c",
   "metadata": {},
   "outputs": [
    {
     "data": {
      "text/latex": [
       "$\\displaystyle \\left[\\begin{matrix}x\\\\y\\end{matrix}\\right]$"
      ],
      "text/plain": [
       "Matrix([\n",
       "[x],\n",
       "[y]])"
      ]
     },
     "execution_count": 107,
     "metadata": {},
     "output_type": "execute_result"
    }
   ],
   "source": [
    "v = smp.Matrix([x, y])\n",
    "\n",
    "v"
   ]
  },
  {
   "cell_type": "code",
   "execution_count": 108,
   "id": "1fddcb67",
   "metadata": {},
   "outputs": [
    {
     "data": {
      "text/latex": [
       "$\\displaystyle \\left[\\begin{matrix}x + y\\\\x + 2 y\\\\3 x + y\\end{matrix}\\right]$"
      ],
      "text/plain": [
       "Matrix([\n",
       "[  x + y],\n",
       "[x + 2*y],\n",
       "[3*x + y]])"
      ]
     },
     "execution_count": 108,
     "metadata": {},
     "output_type": "execute_result"
    }
   ],
   "source": [
    "M3x2*v"
   ]
  },
  {
   "cell_type": "code",
   "execution_count": 109,
   "id": "17fedb22",
   "metadata": {},
   "outputs": [
    {
     "ename": "ShapeError",
     "evalue": "Matrix size mismatch: (2, 3) * (2, 1).",
     "output_type": "error",
     "traceback": [
      "\u001b[1;31m---------------------------------------------------------------------------\u001b[0m",
      "\u001b[1;31mShapeError\u001b[0m                                Traceback (most recent call last)",
      "Cell \u001b[1;32mIn[109], line 1\u001b[0m\n\u001b[1;32m----> 1\u001b[0m \u001b[43mM2x3\u001b[49m\u001b[38;5;241;43m*\u001b[39;49m\u001b[43mv\u001b[49m\n",
      "File \u001b[1;32m~\\AppData\\Local\\Programs\\Python\\Python311\\Lib\\site-packages\\sympy\\core\\decorators.py:106\u001b[0m, in \u001b[0;36mcall_highest_priority.<locals>.priority_decorator.<locals>.binary_op_wrapper\u001b[1;34m(self, other)\u001b[0m\n\u001b[0;32m    104\u001b[0m         \u001b[38;5;28;01mif\u001b[39;00m f \u001b[38;5;129;01mis\u001b[39;00m \u001b[38;5;129;01mnot\u001b[39;00m \u001b[38;5;28;01mNone\u001b[39;00m:\n\u001b[0;32m    105\u001b[0m             \u001b[38;5;28;01mreturn\u001b[39;00m f(\u001b[38;5;28mself\u001b[39m)\n\u001b[1;32m--> 106\u001b[0m \u001b[38;5;28;01mreturn\u001b[39;00m \u001b[43mfunc\u001b[49m\u001b[43m(\u001b[49m\u001b[38;5;28;43mself\u001b[39;49m\u001b[43m,\u001b[49m\u001b[43m \u001b[49m\u001b[43mother\u001b[49m\u001b[43m)\u001b[49m\n",
      "File \u001b[1;32m~\\AppData\\Local\\Programs\\Python\\Python311\\Lib\\site-packages\\sympy\\matrices\\common.py:2771\u001b[0m, in \u001b[0;36mMatrixArithmetic.__mul__\u001b[1;34m(self, other)\u001b[0m\n\u001b[0;32m   2742\u001b[0m \u001b[38;5;129m@call_highest_priority\u001b[39m(\u001b[38;5;124m'\u001b[39m\u001b[38;5;124m__rmul__\u001b[39m\u001b[38;5;124m'\u001b[39m)\n\u001b[0;32m   2743\u001b[0m \u001b[38;5;28;01mdef\u001b[39;00m \u001b[38;5;21m__mul__\u001b[39m(\u001b[38;5;28mself\u001b[39m, other):\n\u001b[0;32m   2744\u001b[0m \u001b[38;5;250m    \u001b[39m\u001b[38;5;124;03m\"\"\"Return self*other where other is either a scalar or a matrix\u001b[39;00m\n\u001b[0;32m   2745\u001b[0m \u001b[38;5;124;03m    of compatible dimensions.\u001b[39;00m\n\u001b[0;32m   2746\u001b[0m \n\u001b[1;32m   (...)\u001b[0m\n\u001b[0;32m   2768\u001b[0m \u001b[38;5;124;03m    matrix_multiply_elementwise\u001b[39;00m\n\u001b[0;32m   2769\u001b[0m \u001b[38;5;124;03m    \"\"\"\u001b[39;00m\n\u001b[1;32m-> 2771\u001b[0m     \u001b[38;5;28;01mreturn\u001b[39;00m \u001b[38;5;28;43mself\u001b[39;49m\u001b[38;5;241;43m.\u001b[39;49m\u001b[43mmultiply\u001b[49m\u001b[43m(\u001b[49m\u001b[43mother\u001b[49m\u001b[43m)\u001b[49m\n",
      "File \u001b[1;32m~\\AppData\\Local\\Programs\\Python\\Python311\\Lib\\site-packages\\sympy\\matrices\\common.py:2793\u001b[0m, in \u001b[0;36mMatrixArithmetic.multiply\u001b[1;34m(self, other, dotprodsimp)\u001b[0m\n\u001b[0;32m   2789\u001b[0m \u001b[38;5;28;01mif\u001b[39;00m (\u001b[38;5;28mhasattr\u001b[39m(other, \u001b[38;5;124m'\u001b[39m\u001b[38;5;124mshape\u001b[39m\u001b[38;5;124m'\u001b[39m) \u001b[38;5;129;01mand\u001b[39;00m \u001b[38;5;28mlen\u001b[39m(other\u001b[38;5;241m.\u001b[39mshape) \u001b[38;5;241m==\u001b[39m \u001b[38;5;241m2\u001b[39m \u001b[38;5;129;01mand\u001b[39;00m\n\u001b[0;32m   2790\u001b[0m     (\u001b[38;5;28mgetattr\u001b[39m(other, \u001b[38;5;124m'\u001b[39m\u001b[38;5;124mis_Matrix\u001b[39m\u001b[38;5;124m'\u001b[39m, \u001b[38;5;28;01mTrue\u001b[39;00m) \u001b[38;5;129;01mor\u001b[39;00m\n\u001b[0;32m   2791\u001b[0m      \u001b[38;5;28mgetattr\u001b[39m(other, \u001b[38;5;124m'\u001b[39m\u001b[38;5;124mis_MatrixLike\u001b[39m\u001b[38;5;124m'\u001b[39m, \u001b[38;5;28;01mTrue\u001b[39;00m))):\n\u001b[0;32m   2792\u001b[0m     \u001b[38;5;28;01mif\u001b[39;00m \u001b[38;5;28mself\u001b[39m\u001b[38;5;241m.\u001b[39mshape[\u001b[38;5;241m1\u001b[39m] \u001b[38;5;241m!=\u001b[39m other\u001b[38;5;241m.\u001b[39mshape[\u001b[38;5;241m0\u001b[39m]:\n\u001b[1;32m-> 2793\u001b[0m         \u001b[38;5;28;01mraise\u001b[39;00m ShapeError(\u001b[38;5;124m\"\u001b[39m\u001b[38;5;124mMatrix size mismatch: \u001b[39m\u001b[38;5;132;01m%s\u001b[39;00m\u001b[38;5;124m * \u001b[39m\u001b[38;5;132;01m%s\u001b[39;00m\u001b[38;5;124m.\u001b[39m\u001b[38;5;124m\"\u001b[39m \u001b[38;5;241m%\u001b[39m (\n\u001b[0;32m   2794\u001b[0m             \u001b[38;5;28mself\u001b[39m\u001b[38;5;241m.\u001b[39mshape, other\u001b[38;5;241m.\u001b[39mshape))\n\u001b[0;32m   2796\u001b[0m \u001b[38;5;66;03m# honest SymPy matrices defer to their class's routine\u001b[39;00m\n\u001b[0;32m   2797\u001b[0m \u001b[38;5;28;01mif\u001b[39;00m \u001b[38;5;28mgetattr\u001b[39m(other, \u001b[38;5;124m'\u001b[39m\u001b[38;5;124mis_Matrix\u001b[39m\u001b[38;5;124m'\u001b[39m, \u001b[38;5;28;01mFalse\u001b[39;00m):\n",
      "\u001b[1;31mShapeError\u001b[0m: Matrix size mismatch: (2, 3) * (2, 1)."
     ]
    }
   ],
   "source": [
    "M2x3*v"
   ]
  },
  {
   "cell_type": "markdown",
   "id": "1e433c55",
   "metadata": {},
   "source": [
    "#### Vector Algebra"
   ]
  },
  {
   "cell_type": "code",
   "execution_count": null,
   "id": "3e3b1ac6",
   "metadata": {},
   "outputs": [],
   "source": [
    "u = smp.Matrix([u1, u2, u3])\n",
    "v = smp.Matrix([v1, v2, v3])"
   ]
  },
  {
   "cell_type": "code",
   "execution_count": 110,
   "id": "023fd634",
   "metadata": {},
   "outputs": [
    {
     "data": {
      "text/latex": [
       "$\\displaystyle \\sqrt{\\left|{u_{1}}\\right|^{2} + \\left|{u_{2}}\\right|^{2} + \\left|{u_{3}}\\right|^{2}}$"
      ],
      "text/plain": [
       "sqrt(Abs(u_1)**2 + Abs(u_2)**2 + Abs(u_3)**2)"
      ]
     },
     "execution_count": 110,
     "metadata": {},
     "output_type": "execute_result"
    }
   ],
   "source": [
    "u.norm()"
   ]
  },
  {
   "cell_type": "code",
   "execution_count": 111,
   "id": "6dd21bff",
   "metadata": {},
   "outputs": [
    {
     "data": {
      "text/latex": [
       "$\\displaystyle \\sqrt{\\left|{x}\\right|^{2} + \\left|{y}\\right|^{2}}$"
      ],
      "text/plain": [
       "sqrt(Abs(x)**2 + Abs(y)**2)"
      ]
     },
     "execution_count": 111,
     "metadata": {},
     "output_type": "execute_result"
    }
   ],
   "source": [
    "v.norm()"
   ]
  },
  {
   "cell_type": "code",
   "execution_count": 112,
   "id": "cff420a0",
   "metadata": {},
   "outputs": [
    {
     "ename": "ShapeError",
     "evalue": "Dimensions incorrect for dot product: (3, 1), (2, 1)",
     "output_type": "error",
     "traceback": [
      "\u001b[1;31m---------------------------------------------------------------------------\u001b[0m",
      "\u001b[1;31mShapeError\u001b[0m                                Traceback (most recent call last)",
      "Cell \u001b[1;32mIn[112], line 1\u001b[0m\n\u001b[1;32m----> 1\u001b[0m \u001b[43mu\u001b[49m\u001b[38;5;241;43m.\u001b[39;49m\u001b[43mdot\u001b[49m\u001b[43m(\u001b[49m\u001b[43mv\u001b[49m\u001b[43m)\u001b[49m\n",
      "File \u001b[1;32m~\\AppData\\Local\\Programs\\Python\\Python311\\Lib\\site-packages\\sympy\\matrices\\matrices.py:1418\u001b[0m, in \u001b[0;36mMatrixBase.dot\u001b[1;34m(self, b, hermitian, conjugate_convention)\u001b[0m\n\u001b[0;32m   1416\u001b[0m     \u001b[38;5;28;01mreturn\u001b[39;00m mat\u001b[38;5;241m.\u001b[39m_legacy_array_dot(b)\n\u001b[0;32m   1417\u001b[0m \u001b[38;5;28;01mif\u001b[39;00m \u001b[38;5;28mlen\u001b[39m(mat) \u001b[38;5;241m!=\u001b[39m \u001b[38;5;28mlen\u001b[39m(b):\n\u001b[1;32m-> 1418\u001b[0m     \u001b[38;5;28;01mraise\u001b[39;00m ShapeError(\u001b[38;5;124m\"\u001b[39m\u001b[38;5;124mDimensions incorrect for dot product: \u001b[39m\u001b[38;5;132;01m%s\u001b[39;00m\u001b[38;5;124m, \u001b[39m\u001b[38;5;132;01m%s\u001b[39;00m\u001b[38;5;124m\"\u001b[39m \u001b[38;5;241m%\u001b[39m (\u001b[38;5;28mself\u001b[39m\u001b[38;5;241m.\u001b[39mshape, b\u001b[38;5;241m.\u001b[39mshape))\n\u001b[0;32m   1419\u001b[0m n \u001b[38;5;241m=\u001b[39m \u001b[38;5;28mlen\u001b[39m(mat)\n\u001b[0;32m   1420\u001b[0m \u001b[38;5;28;01mif\u001b[39;00m mat\u001b[38;5;241m.\u001b[39mshape \u001b[38;5;241m!=\u001b[39m (\u001b[38;5;241m1\u001b[39m, n):\n",
      "\u001b[1;31mShapeError\u001b[0m: Dimensions incorrect for dot product: (3, 1), (2, 1)"
     ]
    }
   ],
   "source": [
    "u.dot(v)"
   ]
  },
  {
   "cell_type": "code",
   "execution_count": 113,
   "id": "aba389f4",
   "metadata": {},
   "outputs": [
    {
     "ename": "ShapeError",
     "evalue": "Dimensions incorrect for cross product: (3, 1) x (2, 1)",
     "output_type": "error",
     "traceback": [
      "\u001b[1;31m---------------------------------------------------------------------------\u001b[0m",
      "\u001b[1;31mShapeError\u001b[0m                                Traceback (most recent call last)",
      "Cell \u001b[1;32mIn[113], line 1\u001b[0m\n\u001b[1;32m----> 1\u001b[0m \u001b[43mu\u001b[49m\u001b[38;5;241;43m.\u001b[39;49m\u001b[43mcross\u001b[49m\u001b[43m(\u001b[49m\u001b[43mv\u001b[49m\u001b[43m)\u001b[49m\n",
      "File \u001b[1;32m~\\AppData\\Local\\Programs\\Python\\Python311\\Lib\\site-packages\\sympy\\matrices\\matrices.py:1290\u001b[0m, in \u001b[0;36mMatrixBase.cross\u001b[1;34m(self, b)\u001b[0m\n\u001b[0;32m   1286\u001b[0m     \u001b[38;5;28;01mraise\u001b[39;00m \u001b[38;5;167;01mTypeError\u001b[39;00m(\n\u001b[0;32m   1287\u001b[0m         \u001b[38;5;124m\"\u001b[39m\u001b[38;5;132;01m{}\u001b[39;00m\u001b[38;5;124m must be a Matrix, not \u001b[39m\u001b[38;5;132;01m{}\u001b[39;00m\u001b[38;5;124m.\u001b[39m\u001b[38;5;124m\"\u001b[39m\u001b[38;5;241m.\u001b[39mformat(b, \u001b[38;5;28mtype\u001b[39m(b)))\n\u001b[0;32m   1289\u001b[0m \u001b[38;5;28;01mif\u001b[39;00m \u001b[38;5;129;01mnot\u001b[39;00m (\u001b[38;5;28mself\u001b[39m\u001b[38;5;241m.\u001b[39mrows \u001b[38;5;241m*\u001b[39m \u001b[38;5;28mself\u001b[39m\u001b[38;5;241m.\u001b[39mcols \u001b[38;5;241m==\u001b[39m b\u001b[38;5;241m.\u001b[39mrows \u001b[38;5;241m*\u001b[39m b\u001b[38;5;241m.\u001b[39mcols \u001b[38;5;241m==\u001b[39m \u001b[38;5;241m3\u001b[39m):\n\u001b[1;32m-> 1290\u001b[0m     \u001b[38;5;28;01mraise\u001b[39;00m ShapeError(\u001b[38;5;124m\"\u001b[39m\u001b[38;5;124mDimensions incorrect for cross product: \u001b[39m\u001b[38;5;132;01m%s\u001b[39;00m\u001b[38;5;124m x \u001b[39m\u001b[38;5;132;01m%s\u001b[39;00m\u001b[38;5;124m\"\u001b[39m \u001b[38;5;241m%\u001b[39m\n\u001b[0;32m   1291\u001b[0m                      ((\u001b[38;5;28mself\u001b[39m\u001b[38;5;241m.\u001b[39mrows, \u001b[38;5;28mself\u001b[39m\u001b[38;5;241m.\u001b[39mcols), (b\u001b[38;5;241m.\u001b[39mrows, b\u001b[38;5;241m.\u001b[39mcols)))\n\u001b[0;32m   1292\u001b[0m \u001b[38;5;28;01melse\u001b[39;00m:\n\u001b[0;32m   1293\u001b[0m     \u001b[38;5;28;01mreturn\u001b[39;00m \u001b[38;5;28mself\u001b[39m\u001b[38;5;241m.\u001b[39m_new(\u001b[38;5;28mself\u001b[39m\u001b[38;5;241m.\u001b[39mrows, \u001b[38;5;28mself\u001b[39m\u001b[38;5;241m.\u001b[39mcols, (\n\u001b[0;32m   1294\u001b[0m         (\u001b[38;5;28mself\u001b[39m[\u001b[38;5;241m1\u001b[39m] \u001b[38;5;241m*\u001b[39m b[\u001b[38;5;241m2\u001b[39m] \u001b[38;5;241m-\u001b[39m \u001b[38;5;28mself\u001b[39m[\u001b[38;5;241m2\u001b[39m] \u001b[38;5;241m*\u001b[39m b[\u001b[38;5;241m1\u001b[39m]),\n\u001b[0;32m   1295\u001b[0m         (\u001b[38;5;28mself\u001b[39m[\u001b[38;5;241m2\u001b[39m] \u001b[38;5;241m*\u001b[39m b[\u001b[38;5;241m0\u001b[39m] \u001b[38;5;241m-\u001b[39m \u001b[38;5;28mself\u001b[39m[\u001b[38;5;241m0\u001b[39m] \u001b[38;5;241m*\u001b[39m b[\u001b[38;5;241m2\u001b[39m]),\n\u001b[0;32m   1296\u001b[0m         (\u001b[38;5;28mself\u001b[39m[\u001b[38;5;241m0\u001b[39m] \u001b[38;5;241m*\u001b[39m b[\u001b[38;5;241m1\u001b[39m] \u001b[38;5;241m-\u001b[39m \u001b[38;5;28mself\u001b[39m[\u001b[38;5;241m1\u001b[39m] \u001b[38;5;241m*\u001b[39m b[\u001b[38;5;241m0\u001b[39m])))\n",
      "\u001b[1;31mShapeError\u001b[0m: Dimensions incorrect for cross product: (3, 1) x (2, 1)"
     ]
    }
   ],
   "source": [
    "u.cross(v)"
   ]
  },
  {
   "cell_type": "markdown",
   "id": "f2726060",
   "metadata": {},
   "source": [
    "#### Matrix Equations"
   ]
  },
  {
   "cell_type": "code",
   "execution_count": 114,
   "id": "e539e57c",
   "metadata": {},
   "outputs": [
    {
     "data": {
      "text/latex": [
       "$\\displaystyle \\left[\\begin{matrix}1 & 1\\\\1 & 2\\end{matrix}\\right]$"
      ],
      "text/plain": [
       "Matrix([\n",
       "[1, 1],\n",
       "[1, 2]])"
      ]
     },
     "execution_count": 114,
     "metadata": {},
     "output_type": "execute_result"
    }
   ],
   "source": [
    "M2x2 = smp.Matrix([[1, 1], [1, 2]])\n",
    "\n",
    "M2x2"
   ]
  },
  {
   "cell_type": "code",
   "execution_count": 115,
   "id": "19c488e7",
   "metadata": {},
   "outputs": [
    {
     "data": {
      "text/latex": [
       "$\\displaystyle \\left[\\begin{matrix}x\\\\y\\end{matrix}\\right]$"
      ],
      "text/plain": [
       "Matrix([\n",
       "[x],\n",
       "[y]])"
      ]
     },
     "execution_count": 115,
     "metadata": {},
     "output_type": "execute_result"
    }
   ],
   "source": [
    "v = smp.Matrix([x, y])\n",
    "\n",
    "v"
   ]
  },
  {
   "cell_type": "code",
   "execution_count": 116,
   "id": "a9b340de",
   "metadata": {},
   "outputs": [
    {
     "data": {
      "text/latex": [
       "$\\displaystyle \\left[\\begin{matrix}4\\\\1\\end{matrix}\\right]$"
      ],
      "text/plain": [
       "Matrix([\n",
       "[4],\n",
       "[1]])"
      ]
     },
     "execution_count": 116,
     "metadata": {},
     "output_type": "execute_result"
    }
   ],
   "source": [
    "c = smp.Matrix([4, 1])\n",
    "\n",
    "c"
   ]
  },
  {
   "cell_type": "code",
   "execution_count": 117,
   "id": "c5e84f8c",
   "metadata": {},
   "outputs": [
    {
     "data": {
      "text/latex": [
       "$\\displaystyle \\left[\\begin{matrix}x + y\\\\x + 2 y\\end{matrix}\\right] = \\left[\\begin{matrix}4\\\\1\\end{matrix}\\right]$"
      ],
      "text/plain": [
       "Eq(Matrix([\n",
       "[  x + y],\n",
       "[x + 2*y]]), Matrix([\n",
       "[4],\n",
       "[1]]))"
      ]
     },
     "execution_count": 117,
     "metadata": {},
     "output_type": "execute_result"
    }
   ],
   "source": [
    "matrix_eq = smp.Eq(M2x2*v, c)\n",
    "\n",
    "matrix_eq"
   ]
  },
  {
   "cell_type": "code",
   "execution_count": 118,
   "id": "02bf6dda",
   "metadata": {},
   "outputs": [
    {
     "data": {
      "text/plain": [
       "{x: 7, y: -3}"
      ]
     },
     "execution_count": 118,
     "metadata": {},
     "output_type": "execute_result"
    }
   ],
   "source": [
    "solution = smp.solve(matrix_eq, v)\n",
    "\n",
    "solution"
   ]
  },
  {
   "cell_type": "code",
   "execution_count": 119,
   "id": "272d7abf",
   "metadata": {},
   "outputs": [
    {
     "data": {
      "text/latex": [
       "$\\displaystyle 7$"
      ],
      "text/plain": [
       "7"
      ]
     },
     "execution_count": 119,
     "metadata": {},
     "output_type": "execute_result"
    }
   ],
   "source": [
    "solution[x]"
   ]
  },
  {
   "cell_type": "code",
   "execution_count": 120,
   "id": "3abe43ed",
   "metadata": {},
   "outputs": [
    {
     "data": {
      "text/latex": [
       "$\\displaystyle -3$"
      ],
      "text/plain": [
       "-3"
      ]
     },
     "execution_count": 120,
     "metadata": {},
     "output_type": "execute_result"
    }
   ],
   "source": [
    "solution[y]"
   ]
  },
  {
   "cell_type": "markdown",
   "id": "50c7726d",
   "metadata": {},
   "source": [
    "#### Define function to check for matrix equation solution or solve"
   ]
  },
  {
   "cell_type": "code",
   "execution_count": 121,
   "id": "8991dc31",
   "metadata": {},
   "outputs": [],
   "source": [
    "def check_solution_or_solve(matrix, vector_matrix, column_matrix):\n",
    "\n",
    "    eq = smp.Eq(matrix*vector_matrix, column_matrix)\n",
    "    \n",
    "    solution = smp.solve(eq, v)\n",
    "    \n",
    "    if solution == []:\n",
    "        print(\"No Solution\")\n",
    "    else:\n",
    "        for sol in solution:\n",
    "            print(solution[sol])"
   ]
  },
  {
   "cell_type": "code",
   "execution_count": 122,
   "id": "218103ea",
   "metadata": {},
   "outputs": [
    {
     "data": {
      "text/latex": [
       "$\\displaystyle \\left[\\begin{matrix}1 & 1\\\\1 & 1\\end{matrix}\\right]$"
      ],
      "text/plain": [
       "Matrix([\n",
       "[1, 1],\n",
       "[1, 1]])"
      ]
     },
     "execution_count": 122,
     "metadata": {},
     "output_type": "execute_result"
    }
   ],
   "source": [
    "M = smp.Matrix([[1, 1], [1, 1]])\n",
    "\n",
    "M"
   ]
  },
  {
   "cell_type": "code",
   "execution_count": 123,
   "id": "715e4251",
   "metadata": {},
   "outputs": [
    {
     "data": {
      "text/latex": [
       "$\\displaystyle \\left[\\begin{matrix}x\\\\y\\end{matrix}\\right]$"
      ],
      "text/plain": [
       "Matrix([\n",
       "[x],\n",
       "[y]])"
      ]
     },
     "execution_count": 123,
     "metadata": {},
     "output_type": "execute_result"
    }
   ],
   "source": [
    "v = smp.Matrix([x, y])\n",
    "\n",
    "v"
   ]
  },
  {
   "cell_type": "code",
   "execution_count": 124,
   "id": "030a6a41",
   "metadata": {},
   "outputs": [
    {
     "data": {
      "text/latex": [
       "$\\displaystyle \\left[\\begin{matrix}1\\\\1\\end{matrix}\\right]$"
      ],
      "text/plain": [
       "Matrix([\n",
       "[1],\n",
       "[1]])"
      ]
     },
     "execution_count": 124,
     "metadata": {},
     "output_type": "execute_result"
    }
   ],
   "source": [
    "c = smp.Matrix([1, 1])\n",
    "\n",
    "c"
   ]
  },
  {
   "cell_type": "code",
   "execution_count": 125,
   "id": "599c2b79",
   "metadata": {},
   "outputs": [
    {
     "name": "stdout",
     "output_type": "stream",
     "text": [
      "1 - y\n"
     ]
    }
   ],
   "source": [
    "check_solution_or_solve(M,v,c)"
   ]
  },
  {
   "cell_type": "code",
   "execution_count": 126,
   "id": "2bcd719a",
   "metadata": {},
   "outputs": [
    {
     "data": {
      "text/latex": [
       "$\\displaystyle \\left[\\begin{matrix}1 & -1\\\\1 & -1\\end{matrix}\\right]$"
      ],
      "text/plain": [
       "Matrix([\n",
       "[1, -1],\n",
       "[1, -1]])"
      ]
     },
     "execution_count": 126,
     "metadata": {},
     "output_type": "execute_result"
    }
   ],
   "source": [
    "M = smp.Matrix([[1, -1], [1, -1]])\n",
    "\n",
    "M"
   ]
  },
  {
   "cell_type": "code",
   "execution_count": 127,
   "id": "00f804c9",
   "metadata": {},
   "outputs": [
    {
     "data": {
      "text/latex": [
       "$\\displaystyle \\left[\\begin{matrix}x\\\\y\\end{matrix}\\right]$"
      ],
      "text/plain": [
       "Matrix([\n",
       "[x],\n",
       "[y]])"
      ]
     },
     "execution_count": 127,
     "metadata": {},
     "output_type": "execute_result"
    }
   ],
   "source": [
    "v = smp.Matrix([x, y])\n",
    "\n",
    "v"
   ]
  },
  {
   "cell_type": "code",
   "execution_count": 128,
   "id": "44995d85",
   "metadata": {},
   "outputs": [
    {
     "data": {
      "text/latex": [
       "$\\displaystyle \\left[\\begin{matrix}1\\\\3\\end{matrix}\\right]$"
      ],
      "text/plain": [
       "Matrix([\n",
       "[1],\n",
       "[3]])"
      ]
     },
     "execution_count": 128,
     "metadata": {},
     "output_type": "execute_result"
    }
   ],
   "source": [
    "c = smp.Matrix([1, 3])\n",
    "\n",
    "c"
   ]
  },
  {
   "cell_type": "code",
   "execution_count": 129,
   "id": "6d39c689",
   "metadata": {},
   "outputs": [
    {
     "name": "stdout",
     "output_type": "stream",
     "text": [
      "No Solution\n"
     ]
    }
   ],
   "source": [
    "check_solution_or_solve(M,v,c)"
   ]
  },
  {
   "cell_type": "code",
   "execution_count": 130,
   "id": "0e474076",
   "metadata": {},
   "outputs": [
    {
     "data": {
      "text/latex": [
       "$\\displaystyle \\left[\\begin{matrix}1 & 1 & 3\\\\1 & 2 & 2\\\\3 & 3 & 3\\end{matrix}\\right]$"
      ],
      "text/plain": [
       "Matrix([\n",
       "[1, 1, 3],\n",
       "[1, 2, 2],\n",
       "[3, 3, 3]])"
      ]
     },
     "execution_count": 130,
     "metadata": {},
     "output_type": "execute_result"
    }
   ],
   "source": [
    "M = smp.Matrix([[1, 1, 3], [1, 2, 2], [3, 3, 3]])\n",
    "\n",
    "M"
   ]
  },
  {
   "cell_type": "code",
   "execution_count": 131,
   "id": "e7c1491c",
   "metadata": {},
   "outputs": [
    {
     "data": {
      "text/latex": [
       "$\\displaystyle \\left[\\begin{matrix}x\\\\y\\\\z\\end{matrix}\\right]$"
      ],
      "text/plain": [
       "Matrix([\n",
       "[x],\n",
       "[y],\n",
       "[z]])"
      ]
     },
     "execution_count": 131,
     "metadata": {},
     "output_type": "execute_result"
    }
   ],
   "source": [
    "v = smp.Matrix([x, y, z])\n",
    "\n",
    "v"
   ]
  },
  {
   "cell_type": "code",
   "execution_count": 132,
   "id": "456f1615",
   "metadata": {},
   "outputs": [
    {
     "data": {
      "text/latex": [
       "$\\displaystyle \\left[\\begin{matrix}1\\\\2\\\\3\\end{matrix}\\right]$"
      ],
      "text/plain": [
       "Matrix([\n",
       "[1],\n",
       "[2],\n",
       "[3]])"
      ]
     },
     "execution_count": 132,
     "metadata": {},
     "output_type": "execute_result"
    }
   ],
   "source": [
    "c = smp.Matrix([1, 2, 3])\n",
    "\n",
    "c"
   ]
  },
  {
   "cell_type": "code",
   "execution_count": 133,
   "id": "95352a94",
   "metadata": {},
   "outputs": [
    {
     "name": "stdout",
     "output_type": "stream",
     "text": [
      "0\n",
      "1\n",
      "0\n"
     ]
    }
   ],
   "source": [
    "check_solution_or_solve(M,v,c) "
   ]
  },
  {
   "cell_type": "markdown",
   "id": "61c813f4",
   "metadata": {},
   "source": [
    "### Calculus"
   ]
  },
  {
   "cell_type": "code",
   "execution_count": 134,
   "id": "0c86b5a5",
   "metadata": {},
   "outputs": [
    {
     "data": {
      "text/latex": [
       "$\\displaystyle f{\\left(x \\right)}$"
      ],
      "text/plain": [
       "f(x)"
      ]
     },
     "execution_count": 134,
     "metadata": {},
     "output_type": "execute_result"
    }
   ],
   "source": [
    "f, g = smp.symbols(\"f g\", cls=smp.Function)\n",
    "\n",
    "f = f(x)\n",
    "\n",
    "f"
   ]
  },
  {
   "cell_type": "code",
   "execution_count": 135,
   "id": "03bd8616",
   "metadata": {},
   "outputs": [
    {
     "data": {
      "text/latex": [
       "$\\displaystyle g{\\left(f{\\left(x \\right)} \\right)}$"
      ],
      "text/plain": [
       "g(f(x))"
      ]
     },
     "execution_count": 135,
     "metadata": {},
     "output_type": "execute_result"
    }
   ],
   "source": [
    "g = g(f)\n",
    "\n",
    "g"
   ]
  },
  {
   "cell_type": "code",
   "execution_count": 136,
   "id": "29c4435f",
   "metadata": {},
   "outputs": [
    {
     "data": {
      "text/latex": [
       "$\\displaystyle h{\\left(x,y \\right)}$"
      ],
      "text/plain": [
       "h(x, y)"
      ]
     },
     "execution_count": 136,
     "metadata": {},
     "output_type": "execute_result"
    }
   ],
   "source": [
    "h = smp.symbols(\"h\", cls=smp.Function)\n",
    "\n",
    "h = h(x,y)\n",
    "\n",
    "h"
   ]
  },
  {
   "cell_type": "code",
   "execution_count": 138,
   "id": "3cb89800",
   "metadata": {},
   "outputs": [
    {
     "data": {
      "text/latex": [
       "$\\displaystyle \\begin{cases} x^{3} & \\text{for}\\: x < 3 \\\\x^{2} & \\text{for}\\: x > 3 \\\\3 & \\text{otherwise} \\end{cases}$"
      ],
      "text/plain": [
       "Piecewise((x**3, x < 3), (x**2, x > 3), (3, True))"
      ]
     },
     "execution_count": 138,
     "metadata": {},
     "output_type": "execute_result"
    }
   ],
   "source": [
    "f_piecewize = smp.Piecewise((x**3, x < 3), ((x)**2, x > 3), (3, True))\n",
    "\n",
    "f_piecewize"
   ]
  },
  {
   "cell_type": "code",
   "execution_count": 139,
   "id": "e397514c",
   "metadata": {},
   "outputs": [
    {
     "data": {
      "text/latex": [
       "$\\displaystyle \\begin{cases} x^{3} & \\text{for}\\: x < 3 \\\\3 & \\text{otherwise} \\end{cases}$"
      ],
      "text/plain": [
       "Piecewise((x**3, x < 3), (3, True))"
      ]
     },
     "execution_count": 139,
     "metadata": {},
     "output_type": "execute_result"
    }
   ],
   "source": [
    "f_piecewize = smp.Piecewise((x**3, x < 3), (3, True), ((x)**2, x > 3))\n",
    "\n",
    "f_piecewize"
   ]
  },
  {
   "cell_type": "code",
   "execution_count": 140,
   "id": "6e861dbf",
   "metadata": {},
   "outputs": [
    {
     "data": {
      "text/latex": [
       "$\\displaystyle \\begin{cases} x^{3} & \\text{for}\\: x > 3 \\wedge x < 4 \\\\x^{2} & \\text{for}\\: x \\geq 4 \\\\-1 & \\text{otherwise} \\end{cases}$"
      ],
      "text/plain": [
       "Piecewise((x**3, (x > 3) & (x < 4)), (x**2, x >= 4), (-1, True))"
      ]
     },
     "execution_count": 140,
     "metadata": {},
     "output_type": "execute_result"
    }
   ],
   "source": [
    "g_piecewize = smp.Piecewise((x**3, (3 < x) & (x < 4)), ((x)**2, x >= 4), (-1, True))\n",
    "\n",
    "g_piecewize"
   ]
  },
  {
   "cell_type": "code",
   "execution_count": 141,
   "id": "c5f655a9",
   "metadata": {},
   "outputs": [
    {
     "data": {
      "text/latex": [
       "$\\displaystyle \\begin{cases} x^{3} & \\text{for}\\: x > 3 \\wedge x < 4 \\\\-1 & \\text{otherwise} \\end{cases}$"
      ],
      "text/plain": [
       "Piecewise((x**3, (x > 3) & (x < 4)), (-1, True))"
      ]
     },
     "execution_count": 141,
     "metadata": {},
     "output_type": "execute_result"
    }
   ],
   "source": [
    "g_piecewize = smp.Piecewise((x**3, (3 < x) & (x < 4)), (-1, True), ((x)**2, x >= 4))\n",
    "\n",
    "g_piecewize"
   ]
  },
  {
   "cell_type": "markdown",
   "id": "3a1fcfeb",
   "metadata": {},
   "source": [
    " #### Derivatives"
   ]
  },
  {
   "cell_type": "code",
   "execution_count": 142,
   "id": "4962184c",
   "metadata": {},
   "outputs": [
    {
     "data": {
      "text/latex": [
       "$\\displaystyle e^{x}$"
      ],
      "text/plain": [
       "exp(x)"
      ]
     },
     "execution_count": 142,
     "metadata": {},
     "output_type": "execute_result"
    }
   ],
   "source": [
    "smp.diff(smp.exp(x), x)"
   ]
  },
  {
   "cell_type": "code",
   "execution_count": 143,
   "id": "e62fd48c",
   "metadata": {},
   "outputs": [
    {
     "data": {
      "text/latex": [
       "$\\displaystyle 0$"
      ],
      "text/plain": [
       "0"
      ]
     },
     "execution_count": 143,
     "metadata": {},
     "output_type": "execute_result"
    }
   ],
   "source": [
    "smp.diff(smp.exp(x), y)"
   ]
  },
  {
   "cell_type": "code",
   "execution_count": 144,
   "id": "8696dd40",
   "metadata": {},
   "outputs": [
    {
     "data": {
      "text/latex": [
       "$\\displaystyle x^{3} + 4 x^{2} + 3 x - 5$"
      ],
      "text/plain": [
       "x**3 + 4*x**2 + 3*x - 5"
      ]
     },
     "execution_count": 144,
     "metadata": {},
     "output_type": "execute_result"
    }
   ],
   "source": [
    "expression = x**3+4*x**2+3*x-5\n",
    "\n",
    "expression"
   ]
  },
  {
   "cell_type": "code",
   "execution_count": 146,
   "id": "936b01a0",
   "metadata": {},
   "outputs": [
    {
     "data": {
      "text/latex": [
       "$\\displaystyle 3 x^{2} + 8 x + 3$"
      ],
      "text/plain": [
       "3*x**2 + 8*x + 3"
      ]
     },
     "execution_count": 146,
     "metadata": {},
     "output_type": "execute_result"
    }
   ],
   "source": [
    "expression_derivative = smp.diff(expression, x)\n",
    "\n",
    "expression_derivative"
   ]
  },
  {
   "cell_type": "code",
   "execution_count": 148,
   "id": "8bc1aea0",
   "metadata": {},
   "outputs": [
    {
     "data": {
      "text/latex": [
       "$\\displaystyle 2 \\cdot \\left(3 x + 4\\right)$"
      ],
      "text/plain": [
       "2*(3*x + 4)"
      ]
     },
     "execution_count": 148,
     "metadata": {},
     "output_type": "execute_result"
    }
   ],
   "source": [
    "expression_second_derivative = smp.diff(expression, x, x)\n",
    "\n",
    "expression_second_derivative"
   ]
  },
  {
   "cell_type": "code",
   "execution_count": 149,
   "id": "dd7cfae4",
   "metadata": {},
   "outputs": [
    {
     "data": {
      "text/latex": [
       "$\\displaystyle 3$"
      ],
      "text/plain": [
       "3"
      ]
     },
     "execution_count": 149,
     "metadata": {},
     "output_type": "execute_result"
    }
   ],
   "source": [
    "expression_derivative.subs(x,0)"
   ]
  },
  {
   "cell_type": "code",
   "execution_count": 154,
   "id": "3772639a",
   "metadata": {},
   "outputs": [
    {
     "data": {
      "text/latex": [
       "$\\displaystyle f{\\left(x \\right)}$"
      ],
      "text/plain": [
       "f(x)"
      ]
     },
     "execution_count": 154,
     "metadata": {},
     "output_type": "execute_result"
    }
   ],
   "source": [
    "f = smp.symbols(\"f\", cls=smp.Function)\n",
    "\n",
    "f = f(x)\n",
    "\n",
    "f"
   ]
  },
  {
   "cell_type": "code",
   "execution_count": 155,
   "id": "d6c5fb67",
   "metadata": {},
   "outputs": [
    {
     "data": {
      "text/latex": [
       "$\\displaystyle \\frac{d}{d x} f{\\left(x \\right)}$"
      ],
      "text/plain": [
       "Derivative(f(x), x)"
      ]
     },
     "execution_count": 155,
     "metadata": {},
     "output_type": "execute_result"
    }
   ],
   "source": [
    "smp.diff(f,x)"
   ]
  },
  {
   "cell_type": "code",
   "execution_count": 158,
   "id": "204e28d4",
   "metadata": {},
   "outputs": [
    {
     "data": {
      "text/latex": [
       "$\\displaystyle g{\\left(f{\\left(x \\right)} \\right)}$"
      ],
      "text/plain": [
       "g(f(x))"
      ]
     },
     "execution_count": 158,
     "metadata": {},
     "output_type": "execute_result"
    }
   ],
   "source": [
    "g = smp.symbols(\"g\", cls=smp.Function)\n",
    "\n",
    "g = g(f)\n",
    "\n",
    "g"
   ]
  },
  {
   "cell_type": "code",
   "execution_count": 159,
   "id": "7c80965d",
   "metadata": {},
   "outputs": [
    {
     "data": {
      "text/latex": [
       "$\\displaystyle \\frac{d}{d x} f{\\left(x \\right)} \\frac{d}{d f{\\left(x \\right)}} g{\\left(f{\\left(x \\right)} \\right)}$"
      ],
      "text/plain": [
       "Derivative(f(x), x)*Derivative(g(f(x)), f(x))"
      ]
     },
     "execution_count": 159,
     "metadata": {},
     "output_type": "execute_result"
    }
   ],
   "source": [
    "smp.diff(g, x)"
   ]
  },
  {
   "cell_type": "code",
   "execution_count": 161,
   "id": "942a87d3",
   "metadata": {},
   "outputs": [
    {
     "data": {
      "text/latex": [
       "$\\displaystyle h{\\left(x + f{\\left(x \\right)} \\right)}$"
      ],
      "text/plain": [
       "h(x + f(x))"
      ]
     },
     "execution_count": 161,
     "metadata": {},
     "output_type": "execute_result"
    }
   ],
   "source": [
    "h = smp.symbols(\"h\", cls=smp.Function)\n",
    "\n",
    "h = h(x+f) \n",
    "\n",
    "h"
   ]
  },
  {
   "cell_type": "code",
   "execution_count": 162,
   "id": "1a3e99c7",
   "metadata": {},
   "outputs": [
    {
     "data": {
      "text/latex": [
       "$\\displaystyle \\left(\\frac{d}{d x} f{\\left(x \\right)} + 1\\right) \\left. \\frac{d}{d \\xi_{1}} h{\\left(\\xi_{1} \\right)} \\right|_{\\substack{ \\xi_{1}=x + f{\\left(x \\right)} }}$"
      ],
      "text/plain": [
       "(Derivative(f(x), x) + 1)*Subs(Derivative(h(_xi_1), _xi_1), _xi_1, x + f(x))"
      ]
     },
     "execution_count": 162,
     "metadata": {},
     "output_type": "execute_result"
    }
   ],
   "source": [
    "smp.diff(h, x)"
   ]
  },
  {
   "cell_type": "code",
   "execution_count": 163,
   "id": "bf582991",
   "metadata": {},
   "outputs": [
    {
     "data": {
      "text/latex": [
       "$\\displaystyle x^{3} + 4 x y + x \\sin{\\left(z \\right)} + y z^{8}$"
      ],
      "text/plain": [
       "x**3 + 4*x*y + x*sin(z) + y*z**8"
      ]
     },
     "execution_count": 163,
     "metadata": {},
     "output_type": "execute_result"
    }
   ],
   "source": [
    "f = 4*x*y + x*smp.sin(z)+ x**3 + (z**8)*y\n",
    "\n",
    "f"
   ]
  },
  {
   "cell_type": "code",
   "execution_count": 165,
   "id": "710e88ba",
   "metadata": {},
   "outputs": [
    {
     "data": {
      "text/latex": [
       "$\\displaystyle 3 x^{2} + 4 y + \\sin{\\left(z \\right)}$"
      ],
      "text/plain": [
       "3*x**2 + 4*y + sin(z)"
      ]
     },
     "execution_count": 165,
     "metadata": {},
     "output_type": "execute_result"
    }
   ],
   "source": [
    "smp.diff(f, x)"
   ]
  },
  {
   "cell_type": "markdown",
   "id": "5076fa19",
   "metadata": {},
   "source": [
    "#### Integration"
   ]
  },
  {
   "cell_type": "markdown",
   "id": "0e250a96",
   "metadata": {},
   "source": [
    "#####  Improper  Integrals/Antiderivative"
   ]
  },
  {
   "cell_type": "code",
   "execution_count": 166,
   "id": "cb1de6ad",
   "metadata": {},
   "outputs": [
    {
     "data": {
      "text/latex": [
       "$\\displaystyle - \\cos{\\left(x \\right)}$"
      ],
      "text/plain": [
       "-cos(x)"
      ]
     },
     "execution_count": 166,
     "metadata": {},
     "output_type": "execute_result"
    }
   ],
   "source": [
    "smp.integrate(smp.sin(x), x)"
   ]
  },
  {
   "cell_type": "code",
   "execution_count": 167,
   "id": "c6527ab3",
   "metadata": {},
   "outputs": [
    {
     "data": {
      "text/latex": [
       "$\\displaystyle x \\log{\\left(x \\right)}^{2} - 2 x \\log{\\left(x \\right)} + 2 x$"
      ],
      "text/plain": [
       "x*log(x)**2 - 2*x*log(x) + 2*x"
      ]
     },
     "execution_count": 167,
     "metadata": {},
     "output_type": "execute_result"
    }
   ],
   "source": [
    "expression = smp.integrate(smp.log(x)**2, x)\n",
    "\n",
    "expression"
   ]
  },
  {
   "cell_type": "markdown",
   "id": "798910e5",
   "metadata": {},
   "source": [
    "#####  Definite Integrals"
   ]
  },
  {
   "cell_type": "code",
   "execution_count": 168,
   "id": "bb77720a",
   "metadata": {},
   "outputs": [
    {
     "data": {
      "text/latex": [
       "$\\displaystyle \\frac{\\pi}{2}$"
      ],
      "text/plain": [
       "pi/2"
      ]
     },
     "execution_count": 168,
     "metadata": {},
     "output_type": "execute_result"
    }
   ],
   "source": [
    "smp.integrate(1/smp.sqrt(1-x**2), (x,0,1))"
   ]
  },
  {
   "cell_type": "markdown",
   "id": "5087427f",
   "metadata": {},
   "source": [
    "#####  Indefinite Integrals"
   ]
  },
  {
   "cell_type": "code",
   "execution_count": 169,
   "id": "05a8766a",
   "metadata": {},
   "outputs": [
    {
     "data": {
      "text/latex": [
       "$\\displaystyle \\pi$"
      ],
      "text/plain": [
       "pi"
      ]
     },
     "execution_count": 169,
     "metadata": {},
     "output_type": "execute_result"
    }
   ],
   "source": [
    "smp.integrate(smp.exp(-x**2 - y**2), (x, -smp.oo, smp.oo), (y, -smp.oo, smp.oo))"
   ]
  },
  {
   "cell_type": "markdown",
   "id": "4aa7e63e",
   "metadata": {},
   "source": [
    "#### Symbolic Integrals"
   ]
  },
  {
   "cell_type": "code",
   "execution_count": 170,
   "id": "dd4ea247",
   "metadata": {},
   "outputs": [
    {
     "data": {
      "text/latex": [
       "$\\displaystyle f{\\left(x \\right)}$"
      ],
      "text/plain": [
       "f(x)"
      ]
     },
     "execution_count": 170,
     "metadata": {},
     "output_type": "execute_result"
    }
   ],
   "source": [
    "f = smp.symbols(\"f\", cls=smp.Function)\n",
    "\n",
    "f = f(x)\n",
    "\n",
    "f"
   ]
  },
  {
   "cell_type": "code",
   "execution_count": 171,
   "id": "edbcb60c",
   "metadata": {},
   "outputs": [
    {
     "data": {
      "text/latex": [
       "$\\displaystyle \\int f{\\left(x \\right)}\\, dx$"
      ],
      "text/plain": [
       "Integral(f(x), x)"
      ]
     },
     "execution_count": 171,
     "metadata": {},
     "output_type": "execute_result"
    }
   ],
   "source": [
    "smp.integrate(f,x)"
   ]
  },
  {
   "cell_type": "code",
   "execution_count": 172,
   "id": "927a9568",
   "metadata": {},
   "outputs": [
    {
     "data": {
      "text/latex": [
       "$\\displaystyle \\int f{\\left(x \\right)}\\, dx$"
      ],
      "text/plain": [
       "Integral(f(x), x)"
      ]
     },
     "execution_count": 172,
     "metadata": {},
     "output_type": "execute_result"
    }
   ],
   "source": [
    "s, t = smp.symbols('s t')\n",
    "\n",
    "f, F = smp.symbols(\"f F\", cls=smp.Function)\n",
    "\n",
    "f = f(x)\n",
    "\n",
    "F = smp.integrate(f, x)\n",
    "\n",
    "F"
   ]
  },
  {
   "cell_type": "code",
   "execution_count": 173,
   "id": "69968f24",
   "metadata": {},
   "outputs": [],
   "source": [
    "t = smp.symbols('t')"
   ]
  },
  {
   "cell_type": "code",
   "execution_count": 174,
   "id": "92e2ea74",
   "metadata": {},
   "outputs": [
    {
     "data": {
      "text/latex": [
       "$\\displaystyle \\int\\limits_{0}^{t} f{\\left(x \\right)}\\, dx$"
      ],
      "text/plain": [
       "Integral(f(x), (x, 0, t))"
      ]
     },
     "execution_count": 174,
     "metadata": {},
     "output_type": "execute_result"
    }
   ],
   "source": [
    "smp.integrate(f, (x, 0, t))"
   ]
  },
  {
   "cell_type": "code",
   "execution_count": 175,
   "id": "8c9e0faf",
   "metadata": {},
   "outputs": [
    {
     "data": {
      "text/latex": [
       "$\\displaystyle \\int\\limits_{0}^{\\infty} f{\\left(x \\right)}\\, dx$"
      ],
      "text/plain": [
       "Integral(f(x), (x, 0, oo))"
      ]
     },
     "execution_count": 175,
     "metadata": {},
     "output_type": "execute_result"
    }
   ],
   "source": [
    "smp.integrate(f, (x, 0, smp.oo))"
   ]
  },
  {
   "cell_type": "markdown",
   "id": "3d766281",
   "metadata": {},
   "source": [
    "#### Repeated Integration"
   ]
  },
  {
   "cell_type": "code",
   "execution_count": 176,
   "id": "625666ec",
   "metadata": {},
   "outputs": [
    {
     "data": {
      "text/latex": [
       "$\\displaystyle \\iiint f{\\left(x \\right)}\\, dx\\, dx\\, dx$"
      ],
      "text/plain": [
       "Integral(f(x), x, x, x)"
      ]
     },
     "execution_count": 176,
     "metadata": {},
     "output_type": "execute_result"
    }
   ],
   "source": [
    "smp.integrate(f,x,x,x)"
   ]
  },
  {
   "cell_type": "code",
   "execution_count": 177,
   "id": "46da90b4",
   "metadata": {},
   "outputs": [
    {
     "data": {
      "text/latex": [
       "$\\displaystyle \\int\\limits_{0}^{t}\\int\\limits_{0}^{y} f{\\left(x \\right)}\\, dx\\, dy$"
      ],
      "text/plain": [
       "Integral(f(x), (x, 0, y), (y, 0, t))"
      ]
     },
     "execution_count": 177,
     "metadata": {},
     "output_type": "execute_result"
    }
   ],
   "source": [
    "smp.integrate(f,(x,0,y),(y,0,t))"
   ]
  },
  {
   "cell_type": "markdown",
   "id": "36f9eb42",
   "metadata": {},
   "source": [
    "#### Integral Transforms"
   ]
  },
  {
   "cell_type": "markdown",
   "id": "77bc88fe",
   "metadata": {},
   "source": [
    "#### Laplace Transform"
   ]
  },
  {
   "cell_type": "code",
   "execution_count": 178,
   "id": "4f2197d9",
   "metadata": {},
   "outputs": [
    {
     "data": {
      "text/plain": [
       "(1/(-a + s), a, True)"
      ]
     },
     "execution_count": 178,
     "metadata": {},
     "output_type": "execute_result"
    }
   ],
   "source": [
    "a = smp.symbols(\"a\")\n",
    "\n",
    "smp.integrals.transforms.laplace_transform(smp.exp(a*x), x, s)"
   ]
  },
  {
   "cell_type": "code",
   "execution_count": 179,
   "id": "500c76a7",
   "metadata": {},
   "outputs": [
    {
     "data": {
      "text/plain": [
       "(a/(a**2 + s**2), 0, True)"
      ]
     },
     "execution_count": 179,
     "metadata": {},
     "output_type": "execute_result"
    }
   ],
   "source": [
    "smp.integrals.transforms.laplace_transform(smp.sin(a*x), x, s)"
   ]
  },
  {
   "cell_type": "code",
   "execution_count": 180,
   "id": "67e1c3e0",
   "metadata": {},
   "outputs": [
    {
     "data": {
      "text/latex": [
       "$\\displaystyle \\mathcal{L}_{x}\\left[\\sin{\\left(a x \\right)}\\right]\\left(s\\right)$"
      ],
      "text/plain": [
       "LaplaceTransform(sin(a*x), x, s)"
      ]
     },
     "execution_count": 180,
     "metadata": {},
     "output_type": "execute_result"
    }
   ],
   "source": [
    "smp.integrals.transforms.LaplaceTransform(smp.sin(a*x), x, s)"
   ]
  },
  {
   "cell_type": "markdown",
   "id": "64105f82",
   "metadata": {},
   "source": [
    "#### Fourier Transform"
   ]
  },
  {
   "cell_type": "code",
   "execution_count": 181,
   "id": "75dd8070",
   "metadata": {},
   "outputs": [
    {
     "data": {
      "text/latex": [
       "$\\displaystyle \\mathcal{F}_{x}\\left[\\int f{\\left(x \\right)}\\, dx\\right]\\left(s\\right)$"
      ],
      "text/plain": [
       "FourierTransform(Integral(f(x), x), x, s)"
      ]
     },
     "execution_count": 181,
     "metadata": {},
     "output_type": "execute_result"
    }
   ],
   "source": [
    "smp.integrals.transforms.fourier_transform(F, x, s)"
   ]
  },
  {
   "cell_type": "code",
   "execution_count": 182,
   "id": "72810bda",
   "metadata": {},
   "outputs": [
    {
     "data": {
      "text/latex": [
       "$\\displaystyle \\mathcal{F}^{-1}_{x}\\left[\\int f{\\left(x \\right)}\\, dx\\right]\\left(s\\right)$"
      ],
      "text/plain": [
       "InverseFourierTransform(Integral(f(x), x), x, s)"
      ]
     },
     "execution_count": 182,
     "metadata": {},
     "output_type": "execute_result"
    }
   ],
   "source": [
    "smp.integrals.transforms.inverse_fourier_transform(F, x, s)"
   ]
  },
  {
   "cell_type": "code",
   "execution_count": null,
   "id": "bc1c5c0c",
   "metadata": {},
   "outputs": [],
   "source": [
    " "
   ]
  }
 ],
 "metadata": {
  "kernelspec": {
   "display_name": "Python 3 (ipykernel)",
   "language": "python",
   "name": "python3"
  },
  "language_info": {
   "codemirror_mode": {
    "name": "ipython",
    "version": 3
   },
   "file_extension": ".py",
   "mimetype": "text/x-python",
   "name": "python",
   "nbconvert_exporter": "python",
   "pygments_lexer": "ipython3",
   "version": "3.11.2"
  }
 },
 "nbformat": 4,
 "nbformat_minor": 5
}
